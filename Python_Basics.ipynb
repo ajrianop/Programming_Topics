{
  "nbformat": 4,
  "nbformat_minor": 0,
  "metadata": {
    "colab": {
      "name": "Python_Basics.ipynb",
      "provenance": [],
      "collapsed_sections": [
        "M_lIVBLrZMbQ",
        "CUszMTe3cdQe",
        "-8hUVERLhKxZ",
        "KPY2QRxCoNe_",
        "VM-y8VxxjZvZ",
        "nTJlo_5tjl33"
      ],
      "authorship_tag": "ABX9TyP7DwCmZKHBfkHbCkkvTJHh",
      "include_colab_link": true
    },
    "kernelspec": {
      "name": "python3",
      "display_name": "Python 3"
    },
    "language_info": {
      "name": "python"
    }
  },
  "cells": [
    {
      "cell_type": "markdown",
      "metadata": {
        "id": "view-in-github",
        "colab_type": "text"
      },
      "source": [
        "<a href=\"https://colab.research.google.com/github/ajrianop/Programming_Topics/blob/main/Python_Basics.ipynb\" target=\"_parent\"><img src=\"https://colab.research.google.com/assets/colab-badge.svg\" alt=\"Open In Colab\"/></a>"
      ]
    },
    {
      "cell_type": "markdown",
      "source": [
        "# **Python Basics**"
      ],
      "metadata": {
        "id": "zZu7wvu_Txue"
      }
    },
    {
      "cell_type": "markdown",
      "source": [
        "## ***Strings, Lists,Tuples, Sets and Dictionaries***"
      ],
      "metadata": {
        "id": "cN9yypAwZVW_"
      }
    },
    {
      "cell_type": "markdown",
      "source": [
        "### ***Strings***"
      ],
      "metadata": {
        "id": "M_lIVBLrZMbQ"
      }
    },
    {
      "cell_type": "code",
      "execution_count": 1,
      "metadata": {
        "colab": {
          "base_uri": "https://localhost:8080/"
        },
        "id": "5rzDNeL2Tu-B",
        "outputId": "61383e30-7827-413c-e5b2-e2cf73bbedea"
      },
      "outputs": [
        {
          "output_type": "stream",
          "name": "stdout",
          "text": [
            "M aei ose\n"
          ]
        }
      ],
      "source": [
        "#Uses of strings:\n",
        "s=\"My name is Monster\"\n",
        "#We want to extract all the even entries in the string\n",
        "even_s=s[::2]\n",
        "print(even_s)"
      ]
    },
    {
      "cell_type": "code",
      "source": [
        "#To concatenate we use the + sign, in order to generate new words\n",
        "new1=s+' and my lastname is Grill'\n",
        "print('new1 is:', new1)\n",
        "#To generate horizontal space, write in the string \\n\n",
        "new2=\"We have that all problems are:\\n 1. We don't have any time\"\n",
        "print('new2 is:', new2)\n",
        "#To generate tab space write in the string \\t\n",
        "new3=\"We have that all problems are:\\t 1. We don't have any time\"\n",
        "print('new3 is:', new3)\n",
        "#To put a backslash write in the string \\\\\n",
        "new4=\"We have that all problems are:\\\\ 1. We don't have any time\"\n",
        "print('new4 is:', new4)"
      ],
      "metadata": {
        "colab": {
          "base_uri": "https://localhost:8080/"
        },
        "id": "Hnb7S6SjVUtA",
        "outputId": "9a856f12-07c4-4594-bc56-72cfd17282a1"
      },
      "execution_count": 2,
      "outputs": [
        {
          "output_type": "stream",
          "name": "stdout",
          "text": [
            "new1 is: My name is Monster and my lastname is Grill\n",
            "new2 is: We have that all problems are:\n",
            " 1. We don't have any time\n",
            "new3 is: We have that all problems are:\t 1. We don't have any time\n",
            "new4 is: We have that all problems are:\\ 1. We don't have any time\n"
          ]
        }
      ]
    },
    {
      "cell_type": "code",
      "source": [
        "#Some methods that we can use with Strings:\n",
        "#upper\n",
        "print(\"upper method: \", \"I can't get it\".upper())\n",
        "#.find()\n",
        "print(\"find method: \", \"now the numbers is: 0123456\".find('4'))\n",
        "#.replace()\n",
        "print(\"replace method: \",\"My name is Alfred\".replace('Alfred', 'James'))"
      ],
      "metadata": {
        "colab": {
          "base_uri": "https://localhost:8080/"
        },
        "id": "TIjF1k5MWsd2",
        "outputId": "7a083377-fadb-4d68-936d-295968a30db3"
      },
      "execution_count": 3,
      "outputs": [
        {
          "output_type": "stream",
          "name": "stdout",
          "text": [
            "upper method:  I CAN'T GET IT\n",
            "find method:  24\n",
            "replace method:  My name is James\n"
          ]
        }
      ]
    },
    {
      "cell_type": "markdown",
      "source": [
        "#### Some Examples"
      ],
      "metadata": {
        "id": "3OXYNPXpYHjQ"
      }
    },
    {
      "cell_type": "code",
      "source": [
        "#What is the result of the following?\n",
        "3 + 2 * 2"
      ],
      "metadata": {
        "colab": {
          "base_uri": "https://localhost:8080/"
        },
        "id": "_pA5NucaX-JX",
        "outputId": "ffc9cbae-06ed-4850-fb38-b6c9a2ecb3a6"
      },
      "execution_count": 4,
      "outputs": [
        {
          "output_type": "execute_result",
          "data": {
            "text/plain": [
              "7"
            ]
          },
          "metadata": {},
          "execution_count": 4
        }
      ]
    },
    {
      "cell_type": "code",
      "source": [
        "#Let us print some information of the string\n",
        "name = 'Lizz'\n",
        "print(name[0:2])"
      ],
      "metadata": {
        "colab": {
          "base_uri": "https://localhost:8080/"
        },
        "id": "U9JQE7LCYAxX",
        "outputId": "245ae6f8-a1d6-4a72-af62-00c667abe7d8"
      },
      "execution_count": 5,
      "outputs": [
        {
          "output_type": "stream",
          "name": "stdout",
          "text": [
            "Li\n"
          ]
        }
      ]
    },
    {
      "cell_type": "code",
      "source": [
        "#Let us print some information of the string\n",
        "var = '01234567'\n",
        "print(var[::2])"
      ],
      "metadata": {
        "colab": {
          "base_uri": "https://localhost:8080/"
        },
        "id": "AmfdIR_AYRS5",
        "outputId": "b1c75f0d-2f8d-46d8-a565-767c7a3580c6"
      },
      "execution_count": 6,
      "outputs": [
        {
          "output_type": "stream",
          "name": "stdout",
          "text": [
            "0246\n"
          ]
        }
      ]
    },
    {
      "cell_type": "code",
      "source": [
        "#What is the result of the following?\n",
        "'1'+'2'"
      ],
      "metadata": {
        "colab": {
          "base_uri": "https://localhost:8080/",
          "height": 35
        },
        "id": "WwO_-kiaY4EK",
        "outputId": "5ac5e507-6e27-4d0d-8042-112aec6e7200"
      },
      "execution_count": 7,
      "outputs": [
        {
          "output_type": "execute_result",
          "data": {
            "text/plain": [
              "'12'"
            ],
            "application/vnd.google.colaboratory.intrinsic+json": {
              "type": "string"
            }
          },
          "metadata": {},
          "execution_count": 7
        }
      ]
    },
    {
      "cell_type": "code",
      "source": [
        "#Convert the following string to uppercase\n",
        "myvar = 'hello'\n",
        "myvar.upper()"
      ],
      "metadata": {
        "colab": {
          "base_uri": "https://localhost:8080/",
          "height": 35
        },
        "id": "1rc3ppohY_k3",
        "outputId": "1c074b8d-d08f-48f7-f0eb-79968e9f0cf9"
      },
      "execution_count": 8,
      "outputs": [
        {
          "output_type": "execute_result",
          "data": {
            "text/plain": [
              "'HELLO'"
            ],
            "application/vnd.google.colaboratory.intrinsic+json": {
              "type": "string"
            }
          },
          "metadata": {},
          "execution_count": 8
        }
      ]
    },
    {
      "cell_type": "markdown",
      "source": [
        "### ***Tuples***\n",
        "Are represented by (), and every element in there are described by means an index accordinf to the entry. This are immutable, so we cannot change the information in there.**texto en negrita**"
      ],
      "metadata": {
        "id": "CUszMTe3cdQe"
      }
    },
    {
      "cell_type": "code",
      "source": [
        "t=(0,21,\"hi\", True)\n",
        "t"
      ],
      "metadata": {
        "colab": {
          "base_uri": "https://localhost:8080/"
        },
        "id": "lkGSNVaXZatv",
        "outputId": "3d175463-1360-4e01-d8d9-a7cb84f33953"
      },
      "execution_count": 9,
      "outputs": [
        {
          "output_type": "execute_result",
          "data": {
            "text/plain": [
              "(0, 21, 'hi', True)"
            ]
          },
          "metadata": {},
          "execution_count": 9
        }
      ]
    },
    {
      "cell_type": "code",
      "source": [
        "#We cannot change the information in each entry\n",
        "#So we cannot run the following\n",
        "#t[2]=\"Nothing\""
      ],
      "metadata": {
        "id": "Xn5eXyyUgZv7"
      },
      "execution_count": 10,
      "outputs": []
    },
    {
      "cell_type": "code",
      "source": [
        "#To call the information in the index 2, we use:\n",
        "t[2]"
      ],
      "metadata": {
        "colab": {
          "base_uri": "https://localhost:8080/",
          "height": 0
        },
        "id": "4ERZF6nXgv52",
        "outputId": "d9136870-8bd1-4a10-8cbc-c63e114469d4"
      },
      "execution_count": 11,
      "outputs": [
        {
          "output_type": "execute_result",
          "data": {
            "text/plain": [
              "'hi'"
            ],
            "application/vnd.google.colaboratory.intrinsic+json": {
              "type": "string"
            }
          },
          "metadata": {},
          "execution_count": 11
        }
      ]
    },
    {
      "cell_type": "code",
      "source": [
        "#We can put in the entries of the tuples:\n",
        "#Tuples, strings, lists, integers, floats...\n",
        "new_t=((0,1), \"My name\", 22, 0.123, [0,123, 24, \"Hi\"])\n",
        "new_t"
      ],
      "metadata": {
        "colab": {
          "base_uri": "https://localhost:8080/"
        },
        "id": "N1F0ky-Wg2Bf",
        "outputId": "fdccbc49-c6b0-4fec-9c15-dbfb5886aa0b"
      },
      "execution_count": 12,
      "outputs": [
        {
          "output_type": "execute_result",
          "data": {
            "text/plain": [
              "((0, 1), 'My name', 22, 0.123, [0, 123, 24, 'Hi'])"
            ]
          },
          "metadata": {},
          "execution_count": 12
        }
      ]
    },
    {
      "cell_type": "code",
      "source": [
        "#To slicing the tuple\n",
        "new_t[3:5]"
      ],
      "metadata": {
        "colab": {
          "base_uri": "https://localhost:8080/"
        },
        "id": "rbDKQ18qY_1A",
        "outputId": "7056f054-e402-4571-d9b4-82fa7c04d5e0"
      },
      "execution_count": 13,
      "outputs": [
        {
          "output_type": "execute_result",
          "data": {
            "text/plain": [
              "(0.123, [0, 123, 24, 'Hi'])"
            ]
          },
          "metadata": {},
          "execution_count": 13
        }
      ]
    },
    {
      "cell_type": "code",
      "source": [
        "#Now we want to sort the following tuple\n",
        "des_num=(0,34,2,1,59,4,2)\n",
        "#To sort the previous tuple (in a descreasing way), we have that\n",
        "ordered_num=sorted(des_num, reverse=True)\n",
        "#We can note that using the sorted function the tuple change to a list type\n",
        "ordered_num"
      ],
      "metadata": {
        "colab": {
          "base_uri": "https://localhost:8080/"
        },
        "id": "ifzi_kj0ZLvz",
        "outputId": "063a223a-4d2b-4809-dcdb-b39a3ae168d5"
      },
      "execution_count": 14,
      "outputs": [
        {
          "output_type": "execute_result",
          "data": {
            "text/plain": [
              "[59, 34, 4, 2, 2, 1, 0]"
            ]
          },
          "metadata": {},
          "execution_count": 14
        }
      ]
    },
    {
      "cell_type": "markdown",
      "source": [
        "### ***Lists***\n",
        "This are sorted arrays that are written with [], they are mutable arrays that we can use to save information in each entry."
      ],
      "metadata": {
        "id": "-8hUVERLhKxZ"
      }
    },
    {
      "cell_type": "code",
      "source": [
        "l=[0,23,\"name\" ,[21,\"nothing\"], 26]\n",
        "l"
      ],
      "metadata": {
        "colab": {
          "base_uri": "https://localhost:8080/"
        },
        "id": "opm4UG-4hbcY",
        "outputId": "1ff44438-dc58-4899-b271-028eeddadbe2"
      },
      "execution_count": 15,
      "outputs": [
        {
          "output_type": "execute_result",
          "data": {
            "text/plain": [
              "[0, 23, 'name', [21, 'nothing'], 26]"
            ]
          },
          "metadata": {},
          "execution_count": 15
        }
      ]
    },
    {
      "cell_type": "code",
      "source": [
        "#Some method for lists:\n",
        "#To extend the list with another list:\n",
        "l.extend([0,\"new\"])\n",
        "print(\"Extend method: \", l)\n",
        "#Other way to extend a list\n",
        "print(\"We can extend in other way:\", l+[1,\"new 2\"])\n",
        "L=[0,23,\"name\" , 26]\n",
        "L.extend([12,1])\n",
        "#In order to add\n",
        "print(L)\n",
        "#We can note if we redefine a variable or type list as follows\n",
        "#we are going to obtain an object without information\n",
        "llist=L.extend([5,4])\n",
        "print(\"llist give us: \", llist)"
      ],
      "metadata": {
        "colab": {
          "base_uri": "https://localhost:8080/"
        },
        "id": "5z_pbR4Qk0hF",
        "outputId": "319d3334-8e34-4685-f91e-499930e7ac98"
      },
      "execution_count": 16,
      "outputs": [
        {
          "output_type": "stream",
          "name": "stdout",
          "text": [
            "Extend method:  [0, 23, 'name', [21, 'nothing'], 26, 0, 'new']\n",
            "We can extend in other way: [0, 23, 'name', [21, 'nothing'], 26, 0, 'new', 1, 'new 2']\n",
            "[0, 23, 'name', 26, 12, 1]\n",
            "llist give us:  None\n"
          ]
        }
      ]
    },
    {
      "cell_type": "code",
      "source": [
        "#To clone a list\n",
        "l1=l[:]\n",
        "#So we can change the information without change information in l\n",
        "print(\"old l1:\", l1)\n",
        "l1[0]=3\n",
        "#We change the first entry to 3\n",
        "print(\"new l1:\", l1)\n",
        "#To add a new element to the list\n",
        "l1.append([2,1])\n",
        "print(\"Adding a new element to thee list\",l1)\n"
      ],
      "metadata": {
        "colab": {
          "base_uri": "https://localhost:8080/"
        },
        "id": "Tnz6ENGvmp9b",
        "outputId": "d7c77e68-5558-45b8-9195-6c0c56e4e980"
      },
      "execution_count": 17,
      "outputs": [
        {
          "output_type": "stream",
          "name": "stdout",
          "text": [
            "old l1: [0, 23, 'name', [21, 'nothing'], 26, 0, 'new']\n",
            "new l1: [3, 23, 'name', [21, 'nothing'], 26, 0, 'new']\n",
            "Adding a new element to thee list [3, 23, 'name', [21, 'nothing'], 26, 0, 'new', [2, 1]]\n"
          ]
        }
      ]
    },
    {
      "cell_type": "code",
      "source": [
        "#We can delete and element in the list\n",
        "A = [\"grunge\", 10, 1.2]\n",
        "print('Before change:', A)\n",
        "A[0] = 'Indie rock'\n",
        "print('After change:', A)\n",
        "#Using the function del\n",
        "print('Before change:', A)\n",
        "del(A[0 ])\n",
        "print('After change:', A)"
      ],
      "metadata": {
        "colab": {
          "base_uri": "https://localhost:8080/"
        },
        "id": "sebmyYejciRR",
        "outputId": "f0268196-d785-4c63-9ef8-f03c6c8941d7"
      },
      "execution_count": 18,
      "outputs": [
        {
          "output_type": "stream",
          "name": "stdout",
          "text": [
            "Before change: ['grunge', 10, 1.2]\n",
            "After change: ['Indie rock', 10, 1.2]\n",
            "Before change: ['Indie rock', 10, 1.2]\n",
            "After change: [10, 1.2]\n"
          ]
        }
      ]
    },
    {
      "cell_type": "code",
      "source": [
        "#Sometimes it will be necessary to convert a string in a list, so a function that allows us to describe this is:\n",
        "string=\"Sometime the music is everything, every song every lyrics, is a magical place to relax your min\"\n",
        "#The function to create a list with every word is given by:\n",
        "string.split()\n",
        "#If our string is separated by , or othe sign, we can use\n",
        "string2=\"21/243/03/12/16\"\n",
        "string3=\"92,32,03,4,82\"\n",
        "#Use the function split, but dividing the string by means the respective symbol:\n",
        "print(\"Creating a list splitting by /\", string2.split('/'))\n",
        "print(\"Creating a list splitting by ,\", string3.split(','))"
      ],
      "metadata": {
        "colab": {
          "base_uri": "https://localhost:8080/"
        },
        "id": "exQcB7rGc5Se",
        "outputId": "0dcafe69-22e7-4119-c746-84d896471044"
      },
      "execution_count": 19,
      "outputs": [
        {
          "output_type": "stream",
          "name": "stdout",
          "text": [
            "Creating a list splitting by / ['21', '243', '03', '12', '16']\n",
            "Creating a list splitting by , ['92', '32', '03', '4', '82']\n"
          ]
        }
      ]
    },
    {
      "cell_type": "markdown",
      "source": [
        "#### Some examples:\n"
      ],
      "metadata": {
        "id": "KPY2QRxCoNe_"
      }
    },
    {
      "cell_type": "code",
      "source": [
        "#Extract the last element, two forms\n",
        "A=(0,1,2,3)\n",
        "A[-1]\n",
        "A[3]"
      ],
      "metadata": {
        "colab": {
          "base_uri": "https://localhost:8080/"
        },
        "id": "SLwcnWkMoKXc",
        "outputId": "181ae9a7-43ce-4bc3-dd5a-f93aa10a4daa"
      },
      "execution_count": 20,
      "outputs": [
        {
          "output_type": "execute_result",
          "data": {
            "text/plain": [
              "3"
            ]
          },
          "metadata": {},
          "execution_count": 20
        }
      ]
    },
    {
      "cell_type": "code",
      "source": [
        "#slicing the list\n",
        "B=[\"a\",\"b\",\"c\"]\n",
        "B[1:]"
      ],
      "metadata": {
        "colab": {
          "base_uri": "https://localhost:8080/"
        },
        "id": "jdtigscioZGc",
        "outputId": "f7e5d8cc-2698-4b00-89e7-6860f28809c3"
      },
      "execution_count": 21,
      "outputs": [
        {
          "output_type": "execute_result",
          "data": {
            "text/plain": [
              "['b', 'c']"
            ]
          },
          "metadata": {},
          "execution_count": 21
        }
      ]
    },
    {
      "cell_type": "markdown",
      "source": [
        "### ***Sets***\n",
        "A set is a collection of elements, in python is written with {}.\n"
      ],
      "metadata": {
        "id": "VM-y8VxxjZvZ"
      }
    },
    {
      "cell_type": "code",
      "source": [
        "#Given a set\n",
        "set0={1,23,4,61,2,4}\n",
        "#Given a list, we can convert this in a set\n",
        "list0=[0,23,\"name\" ,21,\"nothing\", 26]\n",
        "set01=set(list0)\n",
        "set01\n",
        "#If we consider list or tuples as elements in the set, we cannot convert the list into a set\n",
        "#The followinf code generates an error\n",
        "'''list2=[0,23,\"name\" ,[21,\"nothing\"], 26]\n",
        "set02=set(list1)\n",
        "set02'''\n",
        "#We want to add values to the set01, so\n",
        "set01.add(\"new value\")\n",
        "print(\"Adding elements\\n\", set01)\n",
        "#Note, if we add the same element again, nothing change\n",
        "set01.add(\"new value\")\n",
        "print(\"Adding elements with the same name in the set\\n\", set01)\n",
        "#We can remove elements, only using the name of the elemet\n",
        "set01.remove(26)\n",
        "print(\"Removing elements\", set01)"
      ],
      "metadata": {
        "colab": {
          "base_uri": "https://localhost:8080/"
        },
        "id": "O5SPWk-8tcd-",
        "outputId": "2bf9fd67-0671-438f-ceed-e0e6b377ff47"
      },
      "execution_count": 22,
      "outputs": [
        {
          "output_type": "stream",
          "name": "stdout",
          "text": [
            "Adding elements\n",
            " {0, 'name', 'nothing', 'new value', 21, 23, 26}\n",
            "Adding elements with the same name in the set\n",
            " {0, 'name', 'nothing', 'new value', 21, 23, 26}\n",
            "Removing elements {0, 'name', 'nothing', 'new value', 21, 23}\n"
          ]
        }
      ]
    },
    {
      "cell_type": "markdown",
      "source": [
        "We have some logic operation between sets, so let us describe some of this function"
      ],
      "metadata": {
        "id": "T7Pqtfewxh2o"
      }
    },
    {
      "cell_type": "code",
      "source": [
        "#Intersection\n",
        "inter= set0 & set01\n",
        "print(\"intersection one way\", inter)\n",
        "#Other way to find the intersection\n",
        "inter2=set0.intersection(set01)\n",
        "print(\"intersection one way\", inter2)"
      ],
      "metadata": {
        "colab": {
          "base_uri": "https://localhost:8080/"
        },
        "id": "41rAqtFAulbU",
        "outputId": "d5c1b796-d38d-4a9b-d7e1-cb910355e820"
      },
      "execution_count": 30,
      "outputs": [
        {
          "output_type": "stream",
          "name": "stdout",
          "text": [
            "intersection one way {23}\n",
            "intersection one way {23}\n"
          ]
        }
      ]
    },
    {
      "cell_type": "code",
      "source": [
        "#difference  between the set0 and set01\n",
        "#In this case, we vanish the element of the intersection in the set0\n",
        "dif=set0.difference(set01)\n",
        "dif"
      ],
      "metadata": {
        "colab": {
          "base_uri": "https://localhost:8080/"
        },
        "id": "8cmrrIajvTGz",
        "outputId": "d601c477-31e7-4a50-c456-a892f4499789"
      },
      "execution_count": 28,
      "outputs": [
        {
          "output_type": "execute_result",
          "data": {
            "text/plain": [
              "{1, 2, 4, 61}"
            ]
          },
          "metadata": {},
          "execution_count": 28
        }
      ]
    },
    {
      "cell_type": "code",
      "source": [
        "#The union of set, correspond to \n",
        "uni=set0.union(set01)\n",
        "uni"
      ],
      "metadata": {
        "colab": {
          "base_uri": "https://localhost:8080/"
        },
        "id": "EXE9qUBYv7bW",
        "outputId": "2a7a58af-a19a-45c2-be1b-00c4ac804751"
      },
      "execution_count": 31,
      "outputs": [
        {
          "output_type": "execute_result",
          "data": {
            "text/plain": [
              "{0, 1, 2, 21, 23, 4, 61, 'name', 'new value', 'nothing'}"
            ]
          },
          "metadata": {},
          "execution_count": 31
        }
      ]
    },
    {
      "cell_type": "code",
      "source": [
        "#We can return if a set is a subset of other (function that we use .issubset())\n",
        "#and also is any set contains all the elements of other set (function that we use .issuperset())\n",
        "set1={1,2,3,4,5,6}\n",
        "set2={7,8,9,10}\n",
        "set3={2,3}\n",
        "set4={8,10}\n",
        "print(\"Is the set1 contained in set2?: \", set1.issubset(set2))\n",
        "print(\"Do the set1 contain the set2?: \", set1.issuperset(set2))\n",
        "print(\"Is the set4 contained in set2?: \", set4.issubset(set2))\n",
        "print(\"Do the set1 contain the set3?: \", set1.issuperset(set3))\n"
      ],
      "metadata": {
        "colab": {
          "base_uri": "https://localhost:8080/"
        },
        "id": "vezdtFtgvKvy",
        "outputId": "341b1c13-cfbb-4d60-b239-6c4ec99740f3"
      },
      "execution_count": 37,
      "outputs": [
        {
          "output_type": "stream",
          "name": "stdout",
          "text": [
            "Is the set1 contained in set2?:  False\n",
            "Do the set1 contain the set2?:  False\n",
            "Is the set4 contained in set2?:  True\n",
            "Do the set1 contain the set3?:  True\n"
          ]
        }
      ]
    },
    {
      "cell_type": "code",
      "source": [
        "# set cannot have elements which are duplicates\n",
        "# Output: {1, 2, 3, 4}\n",
        "my_set = {1, 2, 3, 4, 3, 2}\n",
        "sete={2,4,10,20}\n",
        "my_set.union(sete)\n",
        "my_set"
      ],
      "metadata": {
        "id": "6IPSwIxMt8Sx"
      },
      "execution_count": null,
      "outputs": []
    },
    {
      "cell_type": "markdown",
      "source": [
        "#### Some examples:"
      ],
      "metadata": {
        "id": "nTJlo_5tjl33"
      }
    },
    {
      "cell_type": "markdown",
      "source": [
        ""
      ],
      "metadata": {
        "id": "So1062YJ2Ro9"
      }
    },
    {
      "cell_type": "markdown",
      "source": [
        "### ***Dictionaries***\n",
        "A dictionary is described by elements which are characterized by a key and a value, this object is described with {key: value}. We can implement this in order to find a value according to its key."
      ],
      "metadata": {
        "id": "EtWxgyRb2RzI"
      }
    },
    {
      "cell_type": "code",
      "source": [
        "#We can define  keys as numbers, strings or tuples, we cannot put lists or set as keys\n",
        "#dic={key:value}\n",
        "dic={\"a\":\"Andres\",\"b\": \"Blanca\", \"c\": \"Carlos\", \"d\":\"Diego\"}\n",
        "#To call the value of \"c\"\n",
        "print(\"To call the value of 'c' \", dic[\"c\"])\n",
        "#To call all the keys\n",
        "print(dic.keys())\n",
        "#To call all the values\n",
        "print(dic.values())\n",
        "#dictionary defined with keys as typles\n",
        "dic2={(0,0): \"AC/DC\", (0,1): \"Metallica\", (1,0): \"The White Stripes\", (1,1): \"Megadeth\"}\n",
        "dic2\n",
        "#We cannot define keys with lists, the following code, generates an error\n",
        "#dic2={[0,0]: \"AC/DC\", (0,1): \"Metallica\", (1,0): \"The White Stripes\", (1,1): \"Megadeth\"}"
      ],
      "metadata": {
        "colab": {
          "base_uri": "https://localhost:8080/"
        },
        "id": "SbxGK_Pj2sAM",
        "outputId": "df019aa1-eeb8-4271-d51b-d16ccef93be9"
      },
      "execution_count": 3,
      "outputs": [
        {
          "output_type": "stream",
          "name": "stdout",
          "text": [
            "To call the value of 'c'  Carlos\n",
            "dict_keys(['a', 'b', 'c', 'd'])\n",
            "dict_values(['Andres', 'Blanca', 'Carlos', 'Diego'])\n"
          ]
        },
        {
          "output_type": "execute_result",
          "data": {
            "text/plain": [
              "{(0, 0): 'AC/DC',\n",
              " (0, 1): 'Metallica',\n",
              " (1, 0): 'The White Stripes',\n",
              " (1, 1): 'Megadeth'}"
            ]
          },
          "metadata": {},
          "execution_count": 3
        }
      ]
    },
    {
      "cell_type": "markdown",
      "source": [
        "It is very important to remind that keys in dictionaries are unique, but values not necessarily, so you can write the same value for differents keys."
      ],
      "metadata": {
        "id": "emar9pX5hP-J"
      }
    },
    {
      "cell_type": "code",
      "source": [
        "#In order to add more information for dic1, we only need the following\n",
        "dic[\"e\"]= \"Elena\"\n",
        "print(\"Dictionary with the new element: \",dic)\n",
        "#To delete\n",
        "del(dic[\"e\"])\n",
        "print(\"Deleting the key 'e': \", dic)"
      ],
      "metadata": {
        "colab": {
          "base_uri": "https://localhost:8080/"
        },
        "id": "C1bZ3bXbhdqO",
        "outputId": "557fb015-a640-41af-b058-729cea6c24e9"
      },
      "execution_count": 7,
      "outputs": [
        {
          "output_type": "stream",
          "name": "stdout",
          "text": [
            "Dictionary with the new element:  {'a': 'Andres', 'b': 'Blanca', 'c': 'Carlos', 'd': 'Diego', 'e': 'Elena'}\n",
            "Deleting the key 'e':  {'a': 'Andres', 'b': 'Blanca', 'c': 'Carlos', 'd': 'Diego'}\n"
          ]
        }
      ]
    },
    {
      "cell_type": "code",
      "source": [
        "#We can also find an object in the dictionary, so\n",
        "Ain=(\"a\" in dic)\n",
        "print(\"the letter 'a' is in the dictionary: \", Ain)\n",
        "Zin=(\"z\" in dic)\n",
        "print(\"the letter 'z' is in the dictionary: \", Zin)"
      ],
      "metadata": {
        "colab": {
          "base_uri": "https://localhost:8080/"
        },
        "id": "Xz_BG0F3iTRq",
        "outputId": "4000b733-bea3-418e-dc11-0b59a4453270"
      },
      "execution_count": 8,
      "outputs": [
        {
          "output_type": "stream",
          "name": "stdout",
          "text": [
            "the letter 'a' is in the dictionary:  True\n",
            "the letter 'z' is in the dictionary:  False\n"
          ]
        }
      ]
    },
    {
      "cell_type": "markdown",
      "source": [
        "## ***Conditions, Loops***"
      ],
      "metadata": {
        "id": "iIggHt6akm7B"
      }
    },
    {
      "cell_type": "markdown",
      "source": [
        "### ***Conditions***\n",
        "Conditions are necessary to determine if something has an specific behaviour. So we have to compare with some referent values, in this case we use comparison operators in order to obtain a response which could be True or False (this is called as a boolean). We can compare by means:\n",
        "<ul>\n",
        "    <li>equal: <b>==</b></li>\n",
        "    <li>not equal: <b>!=</b></li>\n",
        "    <li>greater than: <b>></b></li>\n",
        "    <li>less than: <b>&lt;</b></li>\n",
        "    <li>greater than or equal to: <b>>=</b></li>\n",
        "    <li>less than or equal to: <b>&lt;=</b></li>\n",
        "</ul>\n"
      ],
      "metadata": {
        "id": "3wJbZW0BBov_"
      }
    },
    {
      "cell_type": "markdown",
      "source": [
        "### ***If-elif-else statements***\n",
        "This conditional are very useful if we want to worl with some branches, in order to determine if something is true, we can conclude some about this result. So a first use is related to an if statement, if-else statements or if-elif-else statements."
      ],
      "metadata": {
        "id": "o_yiunf_D_GX"
      }
    },
    {
      "cell_type": "code",
      "source": [
        "#If statement\n",
        "age=12\n",
        "\n",
        "if age<18:\n",
        "  print(\"You cannot enter to this place.\")\n"
      ],
      "metadata": {
        "colab": {
          "base_uri": "https://localhost:8080/"
        },
        "id": "g0iu-U6rDOfd",
        "outputId": "c31b277c-fc54-40cd-a269-5149f60c055e"
      },
      "execution_count": 3,
      "outputs": [
        {
          "output_type": "stream",
          "name": "stdout",
          "text": [
            "You cannot enter to this place.\n"
          ]
        }
      ]
    },
    {
      "cell_type": "code",
      "source": [
        "#If else statement\n",
        "age=19\n",
        "if age<18:\n",
        "  print(\"You cannot enter to this place.\")\n",
        "else:\n",
        "  print(\"Welcome to this wonderful place.\")"
      ],
      "metadata": {
        "colab": {
          "base_uri": "https://localhost:8080/"
        },
        "id": "jQ4BYyzCDf6J",
        "outputId": "c4760694-3c7c-41ec-d2c0-f1eede873f06"
      },
      "execution_count": 4,
      "outputs": [
        {
          "output_type": "stream",
          "name": "stdout",
          "text": [
            "Welcome to this wonderful place.\n"
          ]
        }
      ]
    },
    {
      "cell_type": "code",
      "source": [
        "#If elif else statement\n",
        "age=80\n",
        "if age<18:\n",
        "  print(\"You cannot enter to this place.\")\n",
        "elif age<70:\n",
        "  print(\"Welcome to this wonderful place.\")\n",
        "else:\n",
        "  print(\"Welcome to this wonderful place.\\n Take care of your health.\")"
      ],
      "metadata": {
        "colab": {
          "base_uri": "https://localhost:8080/"
        },
        "id": "cn2E2mlnDzBD",
        "outputId": "770e765b-8f9f-4d13-f616-33cad4908349"
      },
      "execution_count": 6,
      "outputs": [
        {
          "output_type": "stream",
          "name": "stdout",
          "text": [
            "Welcome to this wonderful place.\n",
            " Take care of your health.\n"
          ]
        }
      ]
    },
    {
      "cell_type": "markdown",
      "source": [
        ""
      ],
      "metadata": {
        "id": "RYWjgoiEEjEd"
      }
    }
  ]
}