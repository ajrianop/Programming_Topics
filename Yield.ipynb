{
  "nbformat": 4,
  "nbformat_minor": 0,
  "metadata": {
    "colab": {
      "provenance": [],
      "authorship_tag": "ABX9TyNk7fkYB0tN42Iu2o5kwvVQ",
      "include_colab_link": true
    },
    "kernelspec": {
      "name": "python3",
      "display_name": "Python 3"
    },
    "language_info": {
      "name": "python"
    }
  },
  "cells": [
    {
      "cell_type": "markdown",
      "metadata": {
        "id": "view-in-github",
        "colab_type": "text"
      },
      "source": [
        "<a href=\"https://colab.research.google.com/github/ajrianop/Python/blob/main/Yield.ipynb\" target=\"_parent\"><img src=\"https://colab.research.google.com/assets/colab-badge.svg\" alt=\"Open In Colab\"/></a>"
      ]
    },
    {
      "cell_type": "markdown",
      "source": [
        "# **Yield**"
      ],
      "metadata": {
        "id": "yZA5iJ_fz0fp"
      }
    },
    {
      "cell_type": "markdown",
      "source": [
        "We can use `yield` to save data in a function without write the `return`. This is useful in order to generate a list without saving the information with a variable. So we can consider "
      ],
      "metadata": {
        "id": "VyAZsAzfz4SZ"
      }
    },
    {
      "cell_type": "code",
      "execution_count": 1,
      "metadata": {
        "id": "h1u2DgSWyz7j"
      },
      "outputs": [],
      "source": [
        "def counter(max):\n",
        "  n=0\n",
        "  while n < max:\n",
        "    yield n\n",
        "    n = n+1"
      ]
    },
    {
      "cell_type": "markdown",
      "source": [
        "The type of the function counter(), is of type generator, this funtionality it is similar to the description of a list, according to the sense to be iterative. \n",
        "we cannot see the information that has the function."
      ],
      "metadata": {
        "id": "9IEjseOC0kkC"
      }
    },
    {
      "cell_type": "code",
      "source": [
        "type(counter(3))"
      ],
      "metadata": {
        "id": "qM6IG2AO0j5d",
        "colab": {
          "base_uri": "https://localhost:8080/"
        },
        "outputId": "cbc70701-793a-4058-dce3-e969f6aee09d"
      },
      "execution_count": 2,
      "outputs": [
        {
          "output_type": "execute_result",
          "data": {
            "text/plain": [
              "generator"
            ]
          },
          "metadata": {},
          "execution_count": 2
        }
      ]
    },
    {
      "cell_type": "code",
      "source": [
        "counter(4)"
      ],
      "metadata": {
        "id": "OZh-edLT0iX9",
        "colab": {
          "base_uri": "https://localhost:8080/"
        },
        "outputId": "e02e7df1-1dee-4ec6-d6e8-9f5cc703b0d1"
      },
      "execution_count": 3,
      "outputs": [
        {
          "output_type": "execute_result",
          "data": {
            "text/plain": [
              "<generator object counter at 0x7fcf36504820>"
            ]
          },
          "metadata": {},
          "execution_count": 3
        }
      ]
    },
    {
      "cell_type": "code",
      "source": [
        "for i in counter(10):\n",
        "  print(i)"
      ],
      "metadata": {
        "id": "qgkBWaUUzoit",
        "colab": {
          "base_uri": "https://localhost:8080/"
        },
        "outputId": "c6981f17-46cd-40e8-c7d0-869514e7cc64"
      },
      "execution_count": 4,
      "outputs": [
        {
          "output_type": "stream",
          "name": "stdout",
          "text": [
            "0\n",
            "1\n",
            "2\n",
            "3\n",
            "4\n",
            "5\n",
            "6\n",
            "7\n",
            "8\n",
            "9\n"
          ]
        }
      ]
    },
    {
      "cell_type": "markdown",
      "source": [
        "Let us see how is the behaviour of the function"
      ],
      "metadata": {
        "id": "TpIP8zmP5S-K"
      }
    },
    {
      "cell_type": "code",
      "source": [
        "def decreasing_positive_values(max):\n",
        "  print('--- Inside the function ---')\n",
        "  n=max\n",
        "  while n >= 0:\n",
        "    print(f'=> Inside the function - the yield has n = {n}')\n",
        "    yield n\n",
        "    print('=> Inside the function - after the yield in function')\n",
        "    n-=1\n",
        "  print('--- Inside the function - finished ---')"
      ],
      "metadata": {
        "id": "KwSEaRpV5aSF"
      },
      "execution_count": 5,
      "outputs": []
    },
    {
      "cell_type": "code",
      "source": [
        "print('Instance function')\n",
        "lst =  decreasing_positive_values(7)\n",
        "print('Instantiated function')"
      ],
      "metadata": {
        "id": "efO9vq176TU3",
        "colab": {
          "base_uri": "https://localhost:8080/"
        },
        "outputId": "4f36cfa3-e96a-449e-c7ec-d096f5d3282f"
      },
      "execution_count": 6,
      "outputs": [
        {
          "output_type": "stream",
          "name": "stdout",
          "text": [
            "Instance function\n",
            "Instantiated function\n"
          ]
        }
      ]
    },
    {
      "cell_type": "code",
      "source": [
        "for i in lst:\n",
        "  print(f'Value in the iterator {i}')\n",
        "print(\" ****  It's done  ****   :D   \")"
      ],
      "metadata": {
        "id": "iX1izLrH7F9E",
        "colab": {
          "base_uri": "https://localhost:8080/"
        },
        "outputId": "a893a68e-2f05-4f59-913d-4e394e5e9077"
      },
      "execution_count": 7,
      "outputs": [
        {
          "output_type": "stream",
          "name": "stdout",
          "text": [
            "--- Inside the function ---\n",
            "=> Inside the function - the yield has n = 7\n",
            "Value in the iterator 7\n",
            "=> Inside the function - after the yield in function\n",
            "=> Inside the function - the yield has n = 6\n",
            "Value in the iterator 6\n",
            "=> Inside the function - after the yield in function\n",
            "=> Inside the function - the yield has n = 5\n",
            "Value in the iterator 5\n",
            "=> Inside the function - after the yield in function\n",
            "=> Inside the function - the yield has n = 4\n",
            "Value in the iterator 4\n",
            "=> Inside the function - after the yield in function\n",
            "=> Inside the function - the yield has n = 3\n",
            "Value in the iterator 3\n",
            "=> Inside the function - after the yield in function\n",
            "=> Inside the function - the yield has n = 2\n",
            "Value in the iterator 2\n",
            "=> Inside the function - after the yield in function\n",
            "=> Inside the function - the yield has n = 1\n",
            "Value in the iterator 1\n",
            "=> Inside the function - after the yield in function\n",
            "=> Inside the function - the yield has n = 0\n",
            "Value in the iterator 0\n",
            "=> Inside the function - after the yield in function\n",
            "--- Inside the function - finished ---\n",
            " ****  It's done  ****   :D   \n"
          ]
        }
      ]
    }
  ]
}