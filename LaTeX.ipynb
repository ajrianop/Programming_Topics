{
  "nbformat": 4,
  "nbformat_minor": 0,
  "metadata": {
    "colab": {
      "provenance": [],
      "authorship_tag": "ABX9TyNYD9YTkf8BKfvk3Ur+Zm+2",
      "include_colab_link": true
    },
    "kernelspec": {
      "name": "python3",
      "display_name": "Python 3"
    },
    "language_info": {
      "name": "python"
    }
  },
  "cells": [
    {
      "cell_type": "markdown",
      "metadata": {
        "id": "view-in-github",
        "colab_type": "text"
      },
      "source": [
        "<a href=\"https://colab.research.google.com/github/ajrianop/Python/blob/main/LaTeX.ipynb\" target=\"_parent\"><img src=\"https://colab.research.google.com/assets/colab-badge.svg\" alt=\"Open In Colab\"/></a>"
      ]
    },
    {
      "cell_type": "markdown",
      "source": [
        "# **LaTeX**"
      ],
      "metadata": {
        "id": "Pec5TNY2oCyn"
      }
    },
    {
      "cell_type": "markdown",
      "source": [
        "We are going to use a library which permits us to write a function as LaTeX formula."
      ],
      "metadata": {
        "id": "Ii6KxEyloFPi"
      }
    },
    {
      "cell_type": "code",
      "source": [
        "!pip install latexify-py==0.2.0"
      ],
      "metadata": {
        "colab": {
          "base_uri": "https://localhost:8080/"
        },
        "id": "4ZVSQv-ioNXQ",
        "outputId": "7a0734c9-2efb-4dd8-d0be-59d759cd7c2d"
      },
      "execution_count": 5,
      "outputs": [
        {
          "output_type": "stream",
          "name": "stdout",
          "text": [
            "Looking in indexes: https://pypi.org/simple, https://us-python.pkg.dev/colab-wheels/public/simple/\n",
            "Requirement already satisfied: latexify-py==0.2.0 in /usr/local/lib/python3.8/dist-packages (0.2.0)\n",
            "Requirement already satisfied: dill>=0.3.2 in /usr/local/lib/python3.8/dist-packages (from latexify-py==0.2.0) (0.3.6)\n"
          ]
        }
      ]
    },
    {
      "cell_type": "code",
      "source": [
        "import math  # Optionally\n",
        "import latexify\n",
        "\n",
        "latexify.__version__"
      ],
      "metadata": {
        "colab": {
          "base_uri": "https://localhost:8080/",
          "height": 35
        },
        "id": "dZL-hb2Sozjs",
        "outputId": "27629dbc-f5b9-4d3d-80fa-62b6686f1053"
      },
      "execution_count": 6,
      "outputs": [
        {
          "output_type": "execute_result",
          "data": {
            "text/plain": [
              "'0.2.0'"
            ],
            "application/vnd.google.colaboratory.intrinsic+json": {
              "type": "string"
            }
          },
          "metadata": {},
          "execution_count": 6
        }
      ]
    },
    {
      "cell_type": "code",
      "source": [
        "@latexify.function\n",
        "def mult(a,b):\n",
        "  return a*b\n",
        "\n",
        "mult"
      ],
      "metadata": {
        "colab": {
          "base_uri": "https://localhost:8080/",
          "height": 38
        },
        "id": "p88gKo3rpjNj",
        "outputId": "30861e4f-a69b-4368-bc43-daa66822b0b8"
      },
      "execution_count": 10,
      "outputs": [
        {
          "output_type": "execute_result",
          "data": {
            "text/plain": [
              "<latexify.frontend.LatexifiedFunction at 0x7f4926bc4220>"
            ],
            "text/latex": "$$ \\displaystyle \\mathrm{mult}(a, b) = a b $$"
          },
          "metadata": {},
          "execution_count": 10
        }
      ]
    },
    {
      "cell_type": "code",
      "execution_count": 15,
      "metadata": {
        "colab": {
          "base_uri": "https://localhost:8080/",
          "height": 58
        },
        "id": "HzTecmJ4nzMH",
        "outputId": "b8584ee3-885b-4790-ea04-9c1da9d40c38"
      },
      "outputs": [
        {
          "output_type": "execute_result",
          "data": {
            "text/plain": [
              "<latexify.frontend.LatexifiedFunction at 0x7f4926b90190>"
            ],
            "text/latex": "$$ \\displaystyle \\mathrm{maxi}(a, b) = \\left\\{ \\begin{array}{ll} a, & \\mathrm{if} \\ {a \\ge b} \\\\ b, & \\mathrm{otherwise} \\end{array} \\right. $$"
          },
          "metadata": {},
          "execution_count": 15
        }
      ],
      "source": [
        "@latexify.function\n",
        "def maxi(a,b):\n",
        "  if a>=b:\n",
        "    return a\n",
        "  else:\n",
        "    return b\n",
        "\n",
        "maxi"
      ]
    },
    {
      "cell_type": "code",
      "source": [
        "'''\n",
        "Given the polynomial ax^2+bx+x\n",
        "'''\n",
        "@latexify.function\n",
        "def x_1(a,b,c):\n",
        "  return (-b-math.sqrt((-b)**2 -4 * a * c))/(2*a)\n",
        "\n",
        "x_1"
      ],
      "metadata": {
        "colab": {
          "base_uri": "https://localhost:8080/",
          "height": 66
        },
        "id": "kFdVCzppqwTC",
        "outputId": "550cdf81-0f4c-4822-91dc-db02ae356e14"
      },
      "execution_count": 30,
      "outputs": [
        {
          "output_type": "execute_result",
          "data": {
            "text/plain": [
              "<latexify.frontend.LatexifiedFunction at 0x7f4926b909d0>"
            ],
            "text/latex": "$$ \\displaystyle \\mathrm{x_1}(a, b, c) = \\frac{-b - \\sqrt{\\left( -b \\right)^{{2}} - {4} a c}}{{2} a} $$"
          },
          "metadata": {},
          "execution_count": 30
        }
      ]
    },
    {
      "cell_type": "code",
      "source": [
        "'''\n",
        "Given the polynomial ax^2+bx+x\n",
        "'''\n",
        "@latexify.function\n",
        "def x_2(a,b,c):\n",
        "  return (-b+math.sqrt((-b)**2 -4 * a * c))/(2*a)\n",
        "\n",
        "x_2"
      ],
      "metadata": {
        "colab": {
          "base_uri": "https://localhost:8080/",
          "height": 66
        },
        "id": "VvoYYbDSvjbB",
        "outputId": "f54fdab5-619a-470c-92fa-7b1bdb78feb2"
      },
      "execution_count": 31,
      "outputs": [
        {
          "output_type": "execute_result",
          "data": {
            "text/plain": [
              "<latexify.frontend.LatexifiedFunction at 0x7f4926b90310>"
            ],
            "text/latex": "$$ \\displaystyle \\mathrm{x_2}(a, b, c) = \\frac{-b + \\sqrt{\\left( -b \\right)^{{2}} - {4} a c}}{{2} a} $$"
          },
          "metadata": {},
          "execution_count": 31
        }
      ]
    },
    {
      "cell_type": "markdown",
      "source": [
        "To see more information we could see:\n",
        "https://github.com/google/latexify_py"
      ],
      "metadata": {
        "id": "9h1FbGjnwc5k"
      }
    }
  ]
}