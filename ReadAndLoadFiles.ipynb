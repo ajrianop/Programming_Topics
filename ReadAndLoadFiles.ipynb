{
  "nbformat": 4,
  "nbformat_minor": 0,
  "metadata": {
    "colab": {
      "provenance": [],
      "collapsed_sections": [
        "aAlTXvXBAMEL"
      ],
      "authorship_tag": "ABX9TyOPPuEWTeBYzGUeUWTnJpEb",
      "include_colab_link": true
    },
    "kernelspec": {
      "name": "python3",
      "display_name": "Python 3"
    },
    "language_info": {
      "name": "python"
    }
  },
  "cells": [
    {
      "cell_type": "markdown",
      "metadata": {
        "id": "view-in-github",
        "colab_type": "text"
      },
      "source": [
        "<a href=\"https://colab.research.google.com/github/ajrianop/Python/blob/main/ReadAndLoadFiles.ipynb\" target=\"_parent\"><img src=\"https://colab.research.google.com/assets/colab-badge.svg\" alt=\"Open In Colab\"/></a>"
      ]
    },
    {
      "cell_type": "markdown",
      "source": [
        "# **Read and load files**\n",
        "\n",
        "We can open a file according to the directory, so we could use a code like the following, using the path of the document:<br/>\n",
        "`file1=open(\"\\resource\\data\\Example.txt\",\"w\")`<br/>\n",
        "So we can read  \"r\", write  \"w\"<br/>\n",
        "Using the `with` statement is the better pratice because this automatically closed the file"
      ],
      "metadata": {
        "id": "aAlTXvXBAMEL"
      }
    },
    {
      "cell_type": "markdown",
      "source": [
        "## **Write in file**"
      ],
      "metadata": {
        "id": "6_EBeOpIO7XE"
      }
    },
    {
      "cell_type": "markdown",
      "source": [
        "We can create a file with a writing options, this file will be called Example.txt, after that we can open the file only to read."
      ],
      "metadata": {
        "id": "GxiXt9YzGZcI"
      }
    },
    {
      "cell_type": "code",
      "source": [
        "#To create a file, we can use first the following information, first:\n",
        "File=open(\"Example0.txt\", \"w\")\n",
        "File.write(\"This is the first line\\n\")\n",
        "File.write(\"This is the second line\\n\")\n",
        "File.write(\"This is the third line\\n\")\n",
        "File.write(\"This is the end of the file.\")"
      ],
      "metadata": {
        "id": "PkgBPOt8APpS",
        "colab": {
          "base_uri": "https://localhost:8080/"
        },
        "outputId": "a9560186-c6d4-4d1c-828a-27c909d00cb5"
      },
      "execution_count": null,
      "outputs": [
        {
          "output_type": "execute_result",
          "data": {
            "text/plain": [
              "28"
            ]
          },
          "metadata": {},
          "execution_count": 1
        }
      ]
    },
    {
      "cell_type": "code",
      "source": [
        "#With the lines as a code, we run the next one and create the file with\n",
        "#the previous information\n",
        "open(\"Example.txt\", \"w\")\n",
        "#After run the code we can open the file and write information if we want"
      ],
      "metadata": {
        "id": "-qC8bfY5OD3C",
        "colab": {
          "base_uri": "https://localhost:8080/"
        },
        "outputId": "69bf056c-fa95-4ebb-d11f-58571debd296"
      },
      "execution_count": null,
      "outputs": [
        {
          "output_type": "execute_result",
          "data": {
            "text/plain": [
              "<_io.TextIOWrapper name='Example.txt' mode='w' encoding='UTF-8'>"
            ]
          },
          "metadata": {},
          "execution_count": 2
        }
      ]
    },
    {
      "cell_type": "markdown",
      "source": [
        "We create the file File1 with the information in the indent part:"
      ],
      "metadata": {
        "id": "NEA-VVtAIjx2"
      }
    },
    {
      "cell_type": "code",
      "source": [
        "#Creating a file called Example.txt\n",
        "with open(\"Example.txt\", \"w\") as File1:\n",
        "  File1.write(\"This is the first line\\n\")\n",
        "  File1.write(\"This is the second line\\n\")\n",
        "  File1.write(\"This is the third line\\n\")"
      ],
      "metadata": {
        "id": "wVb4_-k8HSIh"
      },
      "execution_count": null,
      "outputs": []
    },
    {
      "cell_type": "code",
      "source": [
        "#Creating a file called File.txt with the information in the list lines\n",
        "lines=[\"This is line A\\n\",\"This is line B\\n\",\"This is line C\\n\"]\n",
        "with open(\"File.txt\", \"w\") as File2:\n",
        "  for line in lines:\n",
        "    File2.write(line)"
      ],
      "metadata": {
        "id": "OE7v0ctYLVl1"
      },
      "execution_count": null,
      "outputs": []
    },
    {
      "cell_type": "markdown",
      "source": [
        "## **Append in file**"
      ],
      "metadata": {
        "id": "2EBQ7BQPPBcc"
      }
    },
    {
      "cell_type": "markdown",
      "source": [
        "The command append will be seen as `\"a\"` in the code apen(nameFile, command) "
      ],
      "metadata": {
        "id": "JbidixKBNmdm"
      }
    },
    {
      "cell_type": "code",
      "source": [
        "#We can append new information in the file Example.txt, without change\n",
        "#the information in the same file\n",
        "with open(\"Example.txt\", \"a\") as File1:\n",
        "  File1.write(\"This is the fourth line\\n\")\n",
        "  File1.write(\"This is the last line in Example.\")"
      ],
      "metadata": {
        "id": "rLid7M07M8eh"
      },
      "execution_count": null,
      "outputs": []
    },
    {
      "cell_type": "markdown",
      "source": [
        "## **Read a file**"
      ],
      "metadata": {
        "id": "0F-840ohPGmH"
      }
    },
    {
      "cell_type": "markdown",
      "source": [
        "We also can copy a file using the following"
      ],
      "metadata": {
        "id": "IHo56Gj7OD33"
      }
    },
    {
      "cell_type": "code",
      "source": [
        "with open(\"Example.txt\", \"r\") as ReadFile:\n",
        "  with open(\"CopyExample.txt\", \"w\") as CopyFile:\n",
        "    for line in ReadFile:\n",
        "      CopyFile.write(line)"
      ],
      "metadata": {
        "id": "O_Cb_WUONazP",
        "colab": {
          "base_uri": "https://localhost:8080/"
        },
        "outputId": "0a712be4-3059-4ad0-a041-7af90bded422"
      },
      "execution_count": null,
      "outputs": [
        {
          "output_type": "stream",
          "name": "stdout",
          "text": [
            "Example.txt\n",
            "This is the first line\n",
            "This is the second line\n",
            "This is the third line\n",
            "\n",
            "CopyExample.txt\n",
            "This is the first line\n",
            "This is the second line\n",
            "This is the third line\n",
            "\n"
          ]
        }
      ]
    },
    {
      "cell_type": "code",
      "source": [
        "#To see the two text file\n",
        "print(\"Example.txt\")\n",
        "with open('Example.txt', 'r') as example:\n",
        "    print(example.read())\n",
        "print(\"CopyExample.txt\")\n",
        "with open('CopyExample.txt', 'r') as copyfile:\n",
        "    print(copyfile.read())"
      ],
      "metadata": {
        "colab": {
          "base_uri": "https://localhost:8080/"
        },
        "id": "sy7DEaD-PtTf",
        "outputId": "695a41d6-d1c8-4bbb-a521-a236644bc35f"
      },
      "execution_count": null,
      "outputs": [
        {
          "output_type": "stream",
          "name": "stdout",
          "text": [
            "Example.txt\n",
            "This is the first line\n",
            "This is the second line\n",
            "This is the third line\n",
            "\n",
            "CopyExample.txt\n",
            "This is the first line\n",
            "This is the second line\n",
            "This is the third line\n",
            "\n"
          ]
        }
      ]
    },
    {
      "cell_type": "markdown",
      "source": [
        "Now we can read the file in Example.txt using the following code:"
      ],
      "metadata": {
        "id": "eseKeKVkG1bN"
      }
    },
    {
      "cell_type": "code",
      "source": [
        "#To read the file we can consider\n",
        "# Read the Example1.txt\n",
        "example = \"Example.txt\"\n",
        "file1 = open(example, \"r\")"
      ],
      "metadata": {
        "id": "Mv16c2tIEjfl"
      },
      "execution_count": null,
      "outputs": []
    },
    {
      "cell_type": "code",
      "source": [
        "#To print the path of the file\n",
        "print(file1.name)\n",
        "#To print the mode od the file\n",
        "print(file1.mode)"
      ],
      "metadata": {
        "id": "ar-t6F8zFixs",
        "colab": {
          "base_uri": "https://localhost:8080/"
        },
        "outputId": "b51c0206-e4ee-4fc7-86d1-07ba80a30470"
      },
      "execution_count": null,
      "outputs": [
        {
          "output_type": "stream",
          "name": "stdout",
          "text": [
            "Example.txt\n",
            "r\n"
          ]
        }
      ]
    },
    {
      "cell_type": "code",
      "source": [
        "#To read the file and print the information\n",
        "content=file1.read()\n",
        "#Note that the file is printed with all the description,\n",
        "#also with the enter spaces\n",
        "content"
      ],
      "metadata": {
        "id": "T2DqwrGQF5rc",
        "colab": {
          "base_uri": "https://localhost:8080/",
          "height": 35
        },
        "outputId": "ed0472a9-8049-41da-f5dd-5ba93ee682ae"
      },
      "execution_count": null,
      "outputs": [
        {
          "output_type": "execute_result",
          "data": {
            "text/plain": [
              "'This is the first line\\nThis is the second line\\nThis is the third line\\n'"
            ],
            "application/vnd.google.colaboratory.intrinsic+json": {
              "type": "string"
            }
          },
          "metadata": {},
          "execution_count": 4
        }
      ]
    },
    {
      "cell_type": "code",
      "source": [
        "#In this form, if we print the information, it will we given different\n",
        "#According to its enter spacesb\n",
        "print(content)"
      ],
      "metadata": {
        "id": "QbHtkjTEHs-H",
        "colab": {
          "base_uri": "https://localhost:8080/"
        },
        "outputId": "9d68de9d-67db-45bd-cb7e-accd8b409a3f"
      },
      "execution_count": null,
      "outputs": [
        {
          "output_type": "stream",
          "name": "stdout",
          "text": [
            "This is the first line\n",
            "This is the second line\n",
            "This is the third line\n",
            "\n"
          ]
        }
      ]
    },
    {
      "cell_type": "code",
      "source": [
        "#If we want to see if the file1 is closed use\n",
        "file1.closed"
      ],
      "metadata": {
        "id": "v9sY0xYjJNcN",
        "colab": {
          "base_uri": "https://localhost:8080/"
        },
        "outputId": "bede73b4-0635-4b7f-a5e6-ebcb8350965f"
      },
      "execution_count": null,
      "outputs": [
        {
          "output_type": "execute_result",
          "data": {
            "text/plain": [
              "False"
            ]
          },
          "metadata": {},
          "execution_count": 6
        }
      ]
    },
    {
      "cell_type": "code",
      "source": [
        "#Close the file is important in order to free up resources\n",
        "file1.close()\n",
        "#Now we can see that the file1 is closed with True value\n",
        "file1.closed"
      ],
      "metadata": {
        "id": "ADKLypL4H4TQ",
        "colab": {
          "base_uri": "https://localhost:8080/"
        },
        "outputId": "f243df3c-8d10-434e-fe28-5437f74627c7"
      },
      "execution_count": null,
      "outputs": [
        {
          "output_type": "execute_result",
          "data": {
            "text/plain": [
              "True"
            ]
          },
          "metadata": {},
          "execution_count": 7
        }
      ]
    },
    {
      "cell_type": "code",
      "source": [
        "#The better option to read a file is using the with statement\n",
        "with open(example, \"r\") as file1:\n",
        "  content=file1.read()\n",
        "  print(content)\n",
        "#Note that file1 is closed\n",
        "print(f\"File 1 is closed = {file1.closed}\")\n",
        "#Print the content outside the indent sintax\n",
        "print(f\"We can see the information in content =\\n{content}\")"
      ],
      "metadata": {
        "id": "vdWiYPcTJVu1",
        "colab": {
          "base_uri": "https://localhost:8080/"
        },
        "outputId": "cb1e679f-4306-407a-997d-e18d71c2453f"
      },
      "execution_count": null,
      "outputs": [
        {
          "output_type": "stream",
          "name": "stdout",
          "text": [
            "This is the first line\n",
            "This is the second line\n",
            "This is the third line\n",
            "\n",
            "File 1 is closed = True\n",
            "We can see the information in content =\n",
            "This is the first line\n",
            "This is the second line\n",
            "This is the third line\n",
            "\n"
          ]
        }
      ]
    },
    {
      "cell_type": "code",
      "source": [
        "#We can read the information by entries in the specific order as follows\n",
        "with open(example, \"r\") as file1:\n",
        "  print(file1.read(5))\n",
        "  print(file1.read(7))\n",
        "  print(file1.read(11))"
      ],
      "metadata": {
        "id": "djnTgNOuLUBz",
        "colab": {
          "base_uri": "https://localhost:8080/"
        },
        "outputId": "37870132-b7a0-4c21-b0f5-cd255660f073"
      },
      "execution_count": null,
      "outputs": [
        {
          "output_type": "stream",
          "name": "stdout",
          "text": [
            "This \n",
            "is the \n",
            "first line\n",
            "\n"
          ]
        }
      ]
    },
    {
      "cell_type": "code",
      "source": [
        "#Printing line by line\n",
        "with open(example, \"r\") as file1:\n",
        "  print(f\"Read the first line { file1.readline()}\")\n",
        "  print(f\"Read the second line { file1.readline()}\")\n",
        "  print(f\"Read the third line { file1.readline()}\")"
      ],
      "metadata": {
        "id": "3o--6-o9MGP5",
        "colab": {
          "base_uri": "https://localhost:8080/"
        },
        "outputId": "20af262a-e833-41c1-a197-8f0b61027c98"
      },
      "execution_count": null,
      "outputs": [
        {
          "output_type": "stream",
          "name": "stdout",
          "text": [
            "Read the first line This is the first line\n",
            "\n",
            "Read the second line This is the second line\n",
            "\n",
            "Read the third line This is the third line\n",
            "\n"
          ]
        }
      ]
    },
    {
      "cell_type": "code",
      "source": [
        "#Printing all the lines\n",
        "with open(example, \"r\") as file1:\n",
        "  allLines=file1.readlines()\n",
        "  print(f\"Read all the lines:\\n { allLines}\")\n"
      ],
      "metadata": {
        "id": "Wl7jUM2dN-Ec",
        "colab": {
          "base_uri": "https://localhost:8080/"
        },
        "outputId": "f6b05221-6354-433e-a9e6-2caece45095a"
      },
      "execution_count": null,
      "outputs": [
        {
          "output_type": "stream",
          "name": "stdout",
          "text": [
            "Read all the lines:\n",
            " ['This is the first line\\n', 'This is the second line\\n', 'This is the third line\\n']\n"
          ]
        }
      ]
    },
    {
      "cell_type": "code",
      "source": [
        "#We can extract line by line in the list:\n",
        "print(f\"Taking the second element in list allLines:\\n {allLines[1]}\")"
      ],
      "metadata": {
        "colab": {
          "base_uri": "https://localhost:8080/"
        },
        "id": "WIYC-njgQ4Hb",
        "outputId": "eb903635-66bc-47a6-dc8f-0213c2c0f8f4"
      },
      "execution_count": null,
      "outputs": [
        {
          "output_type": "stream",
          "name": "stdout",
          "text": [
            "Taking the second element in list allLines:\n",
            " This is the second line\n",
            "\n"
          ]
        }
      ]
    },
    {
      "cell_type": "markdown",
      "source": [
        "## **Other commands**"
      ],
      "metadata": {
        "id": "CPWt3vXXRDLI"
      }
    },
    {
      "cell_type": "markdown",
      "source": [
        "We can access to the file other different forms, this are related according to the following:\n",
        "\n",
        "1.   r+ : Reading and writing. Cannot truncate the file.\n",
        "2.   w+ : Writing and reading. Truncates the file.\n",
        "3.   a+ : Appending and Reading. Creates a new file, if none exists\n",
        "\n",
        "\n"
      ],
      "metadata": {
        "id": "wP2OEvIWGoFg"
      }
    },
    {
      "cell_type": "code",
      "source": [
        "with open('Example.txt','a+') as example:\n",
        "  print(\"initial location {}\".format(example.tell))\n",
        "  data = example.read()\n",
        "  if (not data):  #empty strings return false in python\n",
        "    print('Read nothing') \n",
        "  else:\n",
        "    print(example.read())\n",
        "  example.seek(0,0) # move 0 bytes from beginning.\n",
        "  print(\"\\nNew Location : {}\".format(example.tell()))\n",
        "  data = example.read()\n",
        "  if (not data): \n",
        "    print('Read nothing')\n",
        "  else:\n",
        "    print(data)\n",
        "  print(\"Location after read: {}\".format(example.tell()) )"
      ],
      "metadata": {
        "id": "yQZamkBRGnJw",
        "colab": {
          "base_uri": "https://localhost:8080/"
        },
        "outputId": "9de42702-8dd6-4ee1-cdf9-bb4b2a159114"
      },
      "execution_count": null,
      "outputs": [
        {
          "output_type": "stream",
          "name": "stdout",
          "text": [
            "initial location <built-in method tell of _io.TextIOWrapper object at 0x7f25694f0050>\n",
            "Read nothing\n",
            "\n",
            "New Location : 0\n",
            "This is the first line\n",
            "This is the second line\n",
            "This is the third line\n",
            "This is the fourth line\n",
            "This is the last line in Example.\n",
            "Location after read: 127\n"
          ]
        }
      ]
    },
    {
      "cell_type": "markdown",
      "source": [
        "If we want to write at the beginning of the file we can use"
      ],
      "metadata": {
        "id": "xtD9bSqpJErb"
      }
    },
    {
      "cell_type": "code",
      "source": [
        "with open('Example.txt', 'r+') as example:\n",
        "    data = example.readlines()\n",
        "    example.seek(0,0) #write at beginning of file\n",
        "    example.write(\"1st new line\\n\")\n",
        "    example.write(\"2nd new line\\n\")\n",
        "    example.write(\"3rd new line\\n\")\n",
        "    example.truncate()\n",
        "    #testwritefile.seek(0,0)\n",
        "    print(example.read())"
      ],
      "metadata": {
        "id": "n5LPW0IJHSDY",
        "colab": {
          "base_uri": "https://localhost:8080/"
        },
        "outputId": "eccc027f-ec3e-4ac3-a34e-360d636b821a"
      },
      "execution_count": null,
      "outputs": [
        {
          "output_type": "stream",
          "name": "stdout",
          "text": [
            "\n"
          ]
        }
      ]
    }
  ]
}