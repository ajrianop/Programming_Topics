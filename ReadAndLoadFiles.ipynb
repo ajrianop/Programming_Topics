{
  "nbformat": 4,
  "nbformat_minor": 0,
  "metadata": {
    "colab": {
      "provenance": [],
      "collapsed_sections": [
        "aAlTXvXBAMEL"
      ],
      "authorship_tag": "ABX9TyPlnwhb1TBgHW4DAWxGa6WK",
      "include_colab_link": true
    },
    "kernelspec": {
      "name": "python3",
      "display_name": "Python 3"
    },
    "language_info": {
      "name": "python"
    }
  },
  "cells": [
    {
      "cell_type": "markdown",
      "metadata": {
        "id": "view-in-github",
        "colab_type": "text"
      },
      "source": [
        "<a href=\"https://colab.research.google.com/github/ajrianop/Python/blob/main/ReadAndLoadFiles.ipynb\" target=\"_parent\"><img src=\"https://colab.research.google.com/assets/colab-badge.svg\" alt=\"Open In Colab\"/></a>"
      ]
    },
    {
      "cell_type": "markdown",
      "source": [
        "# **Read and load files**\n",
        "\n",
        "We can open a file according to the directory, so we could use a code like the following, using the path of the document:<br/>\n",
        "`file1=open(\"\\resource\\data\\Example.txt\",\"w\")`<br/>\n",
        "So we can read  \"r\", write  \"w\"<br/>\n",
        "Using the `with` statement is the better pratice because this automatically closed the file"
      ],
      "metadata": {
        "id": "aAlTXvXBAMEL"
      }
    },
    {
      "cell_type": "markdown",
      "source": [
        "We can create a file with a writing options, this file will be called Example.txt, after that we can open the file only to read."
      ],
      "metadata": {
        "id": "GxiXt9YzGZcI"
      }
    },
    {
      "cell_type": "code",
      "source": [
        "#To create a file, we can use first the following information, first:\n",
        "File=open(\"Example0.txt\", \"w\")\n",
        "File.write(\"This is the first line\\n\")\n",
        "File.write(\"This is the second line\\n\")\n",
        "File.write(\"This is the third line\\n\")\n",
        "File.write(\"This is the end of the file.\")\n",
        "#With the lines as a code, we run the next one and create the file with\n",
        "#the previous information\n",
        "open(\"Example.txt\", \"w\")\n",
        "#After run the code we can open the file and write information if we want"
      ],
      "metadata": {
        "id": "PkgBPOt8APpS",
        "colab": {
          "base_uri": "https://localhost:8080/"
        },
        "outputId": "8664ff5b-5aac-43a1-eade-b49704d6e4bc"
      },
      "execution_count": 1,
      "outputs": [
        {
          "output_type": "execute_result",
          "data": {
            "text/plain": [
              "<_io.TextIOWrapper name='Example.txt' mode='w' encoding='UTF-8'>"
            ]
          },
          "metadata": {},
          "execution_count": 1
        }
      ]
    },
    {
      "cell_type": "markdown",
      "source": [
        "We create the file File1 with the information in the indent part:"
      ],
      "metadata": {
        "id": "NEA-VVtAIjx2"
      }
    },
    {
      "cell_type": "code",
      "source": [
        "#Creating a file called Example.txt\n",
        "with open(\"Example.txt\", \"w\") as File1:\n",
        "  File1.write(\"This is the first line\\n\")\n",
        "  File1.write(\"This is the second line\\n\")\n",
        "  File1.write(\"This is the third line\\n\")"
      ],
      "metadata": {
        "id": "wVb4_-k8HSIh"
      },
      "execution_count": 2,
      "outputs": []
    },
    {
      "cell_type": "code",
      "source": [
        "#Creating a file called File.txt with the information in the list lines\n",
        "lines=[\"This is line A\\n\",\"This is line B\\n\",\"This is line C\\n\"]\n",
        "with open(\"File.txt\", \"w\") as File2:\n",
        "  for line in lines:\n",
        "    File2.write(line)"
      ],
      "metadata": {
        "id": "OE7v0ctYLVl1"
      },
      "execution_count": 3,
      "outputs": []
    },
    {
      "cell_type": "markdown",
      "source": [
        "The command append will be seen as `\"a\"` in the code apen(nameFile, command) "
      ],
      "metadata": {
        "id": "JbidixKBNmdm"
      }
    },
    {
      "cell_type": "code",
      "source": [
        "#We can append new information in the file Example.txt, without change\n",
        "#the information in the same file\n",
        "with open(\"Example.txt\", \"a\") as File1:\n",
        "  File1.write(\"This is the fourth line\\n\")\n",
        "  File1.write(\"This is the last line in Example.\")"
      ],
      "metadata": {
        "id": "rLid7M07M8eh"
      },
      "execution_count": 4,
      "outputs": []
    },
    {
      "cell_type": "markdown",
      "source": [
        "We also can copy a file using the following"
      ],
      "metadata": {
        "id": "IHo56Gj7OD33"
      }
    },
    {
      "cell_type": "code",
      "source": [
        "with open(\"Example.txt\", \"r\") as ReadFile:\n",
        "  with open(\"CopyExample.txt\", \"w\") as CopyFile:\n",
        "    for line in ReadFile:\n",
        "      CopyFile.write(line)\n",
        "#To see the two text file\n",
        "print(\"Example.txt\")\n",
        "with open('Example.txt', 'r') as example:\n",
        "    print(example.read())\n",
        "print(\"CopyExample.txt\")\n",
        "with open('CopyExample.txt', 'r') as copyfile:\n",
        "    print(copyfile.read())"
      ],
      "metadata": {
        "id": "O_Cb_WUONazP",
        "colab": {
          "base_uri": "https://localhost:8080/"
        },
        "outputId": "e6878d97-0e4a-40ef-c105-098a491eb91d"
      },
      "execution_count": 5,
      "outputs": [
        {
          "output_type": "stream",
          "name": "stdout",
          "text": [
            "Example.txt\n",
            "This is the first line\n",
            "This is the second line\n",
            "This is the third line\n",
            "This is the fourth line\n",
            "This is the last line in Example.\n",
            "CopyExample.txt\n",
            "This is the first line\n",
            "This is the second line\n",
            "This is the third line\n",
            "This is the fourth line\n",
            "This is the last line in Example.\n"
          ]
        }
      ]
    },
    {
      "cell_type": "markdown",
      "source": [
        "Now we can read the file in Example.txt using the following code:"
      ],
      "metadata": {
        "id": "eseKeKVkG1bN"
      }
    },
    {
      "cell_type": "code",
      "source": [
        "#To read the file we can consider\n",
        "# Read the Example1.txt\n",
        "example = \"Example.txt\"\n",
        "file1 = open(example, \"r\")"
      ],
      "metadata": {
        "id": "Mv16c2tIEjfl"
      },
      "execution_count": 6,
      "outputs": []
    },
    {
      "cell_type": "code",
      "source": [
        "#To print the path of the file\n",
        "print(file1.name)\n",
        "#To print the mode od the file\n",
        "print(file1.mode)"
      ],
      "metadata": {
        "id": "ar-t6F8zFixs",
        "colab": {
          "base_uri": "https://localhost:8080/"
        },
        "outputId": "70e74bad-802a-4d13-c113-9b9aec17e2c6"
      },
      "execution_count": 7,
      "outputs": [
        {
          "output_type": "stream",
          "name": "stdout",
          "text": [
            "Example.txt\n",
            "r\n"
          ]
        }
      ]
    },
    {
      "cell_type": "code",
      "source": [
        "#To read the file and print the information\n",
        "content=file1.read()\n",
        "#Note that the file is printed with all the description,\n",
        "#also with the enter spaces\n",
        "content"
      ],
      "metadata": {
        "id": "T2DqwrGQF5rc",
        "colab": {
          "base_uri": "https://localhost:8080/",
          "height": 35
        },
        "outputId": "00f1aeb7-5579-4c4f-c82b-758d4f1804b0"
      },
      "execution_count": 8,
      "outputs": [
        {
          "output_type": "execute_result",
          "data": {
            "text/plain": [
              "'This is the first line\\nThis is the second line\\nThis is the third line\\nThis is the fourth line\\nThis is the last line in Example.'"
            ],
            "application/vnd.google.colaboratory.intrinsic+json": {
              "type": "string"
            }
          },
          "metadata": {},
          "execution_count": 8
        }
      ]
    },
    {
      "cell_type": "code",
      "source": [
        "#In this form, if we print the information, it will we given different\n",
        "#According to its enter spacesb\n",
        "print(content)"
      ],
      "metadata": {
        "id": "QbHtkjTEHs-H",
        "colab": {
          "base_uri": "https://localhost:8080/"
        },
        "outputId": "a838102b-eddd-4dc4-c5c6-d73e146017e4"
      },
      "execution_count": 9,
      "outputs": [
        {
          "output_type": "stream",
          "name": "stdout",
          "text": [
            "This is the first line\n",
            "This is the second line\n",
            "This is the third line\n",
            "This is the fourth line\n",
            "This is the last line in Example.\n"
          ]
        }
      ]
    },
    {
      "cell_type": "code",
      "source": [
        "#If we want to see if the file1 is closed use\n",
        "file1.closed"
      ],
      "metadata": {
        "id": "v9sY0xYjJNcN",
        "colab": {
          "base_uri": "https://localhost:8080/"
        },
        "outputId": "ccadd397-d9c1-49ef-c08b-a524ded22a12"
      },
      "execution_count": 10,
      "outputs": [
        {
          "output_type": "execute_result",
          "data": {
            "text/plain": [
              "False"
            ]
          },
          "metadata": {},
          "execution_count": 10
        }
      ]
    },
    {
      "cell_type": "code",
      "source": [
        "#Close the file is important in order to free up resources\n",
        "file1.close()\n",
        "#Now we can see that the file1 is closed with True value\n",
        "file1.closed"
      ],
      "metadata": {
        "id": "ADKLypL4H4TQ",
        "colab": {
          "base_uri": "https://localhost:8080/"
        },
        "outputId": "1fc6a0e1-e272-432a-f2f6-0e8f1ea7cfe7"
      },
      "execution_count": 11,
      "outputs": [
        {
          "output_type": "execute_result",
          "data": {
            "text/plain": [
              "True"
            ]
          },
          "metadata": {},
          "execution_count": 11
        }
      ]
    },
    {
      "cell_type": "code",
      "source": [
        "#The better option to read a file is using the with statement\n",
        "with open(example, \"r\") as file1:\n",
        "  content=file1.read()\n",
        "  print(content)\n",
        "#Note that file1 is closed\n",
        "print(f\"File 1 is closed = {file1.closed}\")\n",
        "#Print the content outside the indent sintax\n",
        "print(f\"We can see the information in content =\\n{content}\")"
      ],
      "metadata": {
        "id": "vdWiYPcTJVu1",
        "colab": {
          "base_uri": "https://localhost:8080/"
        },
        "outputId": "3a27e8d5-9e3f-4a98-a721-b1fa4a3561d8"
      },
      "execution_count": 12,
      "outputs": [
        {
          "output_type": "stream",
          "name": "stdout",
          "text": [
            "This is the first line\n",
            "This is the second line\n",
            "This is the third line\n",
            "This is the fourth line\n",
            "This is the last line in Example.\n",
            "File 1 is closed = True\n",
            "We can see the information in content =\n",
            "This is the first line\n",
            "This is the second line\n",
            "This is the third line\n",
            "This is the fourth line\n",
            "This is the last line in Example.\n"
          ]
        }
      ]
    },
    {
      "cell_type": "code",
      "source": [
        "#We can read the information by entries in the specific order as follows\n",
        "with open(example, \"r\") as file1:\n",
        "  print(file1.read(5))\n",
        "  print(file1.read(7))\n",
        "  print(file1.read(11))"
      ],
      "metadata": {
        "id": "djnTgNOuLUBz",
        "colab": {
          "base_uri": "https://localhost:8080/"
        },
        "outputId": "37870132-b7a0-4c21-b0f5-cd255660f073"
      },
      "execution_count": 13,
      "outputs": [
        {
          "output_type": "stream",
          "name": "stdout",
          "text": [
            "This \n",
            "is the \n",
            "first line\n",
            "\n"
          ]
        }
      ]
    },
    {
      "cell_type": "code",
      "source": [
        "#Printing line by line\n",
        "with open(example, \"r\") as file1:\n",
        "  print(f\"Read the first line { file1.readline()}\")\n",
        "  print(f\"Read the second line { file1.readline()}\")\n",
        "  print(f\"Read the third line { file1.readline()}\")"
      ],
      "metadata": {
        "id": "3o--6-o9MGP5",
        "colab": {
          "base_uri": "https://localhost:8080/"
        },
        "outputId": "20af262a-e833-41c1-a197-8f0b61027c98"
      },
      "execution_count": 14,
      "outputs": [
        {
          "output_type": "stream",
          "name": "stdout",
          "text": [
            "Read the first line This is the first line\n",
            "\n",
            "Read the second line This is the second line\n",
            "\n",
            "Read the third line This is the third line\n",
            "\n"
          ]
        }
      ]
    },
    {
      "cell_type": "code",
      "source": [
        "#Printing all the lines\n",
        "with open(example, \"r\") as file1:\n",
        "  allLines=file1.readlines()\n",
        "  print(f\"Read all the lines: { allLines}\")\n",
        "\n",
        "#We can extract line by line in the list:\n",
        "print(f\"Taking the second element in list allLines:\\n {allLines[1]}\")"
      ],
      "metadata": {
        "id": "Wl7jUM2dN-Ec",
        "colab": {
          "base_uri": "https://localhost:8080/"
        },
        "outputId": "0a21d7ba-e8aa-4c5d-b4c7-71c188e845ef"
      },
      "execution_count": 15,
      "outputs": [
        {
          "output_type": "stream",
          "name": "stdout",
          "text": [
            "Read all the lines: ['This is the first line\\n', 'This is the second line\\n', 'This is the third line\\n', 'This is the fourth line\\n', 'This is the last line in Example.']\n",
            "Taking the second element in list allLines:\n",
            " This is the second line\n",
            "\n"
          ]
        }
      ]
    },
    {
      "cell_type": "markdown",
      "source": [
        "We can access to the file other different forms, this are related according to the following:\n",
        "\n",
        "1.   r+ : Reading and writing. Cannot truncate the file.\n",
        "2.   w+ : Writing and reading. Truncates the file.\n",
        "3.   a+ : Appending and Reading. Creates a new file, if none exists\n",
        "\n",
        "\n"
      ],
      "metadata": {
        "id": "wP2OEvIWGoFg"
      }
    },
    {
      "cell_type": "code",
      "source": [
        "with open('Example.txt','a+') as example:\n",
        "  print(\"initial location {}\".format(example.tell))\n",
        "  data = example.read()\n",
        "  if (not data):  #empty strings return false in python\n",
        "    print('Read nothing') \n",
        "  else:\n",
        "    print(example.read())\n",
        "  example.seek(0,0) # move 0 bytes from beginning.\n",
        "  print(\"\\nNew Location : {}\".format(example.tell()))\n",
        "  data = example.read()\n",
        "  if (not data): \n",
        "    print('Read nothing')\n",
        "  else:\n",
        "    print(data)\n",
        "  print(\"Location after read: {}\".format(example.tell()) )"
      ],
      "metadata": {
        "id": "yQZamkBRGnJw",
        "colab": {
          "base_uri": "https://localhost:8080/"
        },
        "outputId": "9de42702-8dd6-4ee1-cdf9-bb4b2a159114"
      },
      "execution_count": 16,
      "outputs": [
        {
          "output_type": "stream",
          "name": "stdout",
          "text": [
            "initial location <built-in method tell of _io.TextIOWrapper object at 0x7f25694f0050>\n",
            "Read nothing\n",
            "\n",
            "New Location : 0\n",
            "This is the first line\n",
            "This is the second line\n",
            "This is the third line\n",
            "This is the fourth line\n",
            "This is the last line in Example.\n",
            "Location after read: 127\n"
          ]
        }
      ]
    },
    {
      "cell_type": "markdown",
      "source": [
        "If we want to write at the beginning of the file we can use"
      ],
      "metadata": {
        "id": "xtD9bSqpJErb"
      }
    },
    {
      "cell_type": "code",
      "source": [
        "with open('Example.txt', 'r+') as example:\n",
        "    data = example.readlines()\n",
        "    example.seek(0,0) #write at beginning of file\n",
        "    example.write(\"1st new line\\n\")\n",
        "    example.write(\"2nd new line\\n\")\n",
        "    example.write(\"3rd new line\\n\")\n",
        "    example.truncate()\n",
        "    #testwritefile.seek(0,0)\n",
        "    print(example.read())"
      ],
      "metadata": {
        "id": "n5LPW0IJHSDY",
        "colab": {
          "base_uri": "https://localhost:8080/"
        },
        "outputId": "eccc027f-ec3e-4ac3-a34e-360d636b821a"
      },
      "execution_count": 17,
      "outputs": [
        {
          "output_type": "stream",
          "name": "stdout",
          "text": [
            "\n"
          ]
        }
      ]
    }
  ]
}