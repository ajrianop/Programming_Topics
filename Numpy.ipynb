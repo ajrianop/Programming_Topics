{
  "nbformat": 4,
  "nbformat_minor": 0,
  "metadata": {
    "colab": {
      "provenance": [],
      "authorship_tag": "ABX9TyNi1pNFiWWro0FPFl5bZ/0S",
      "include_colab_link": true
    },
    "kernelspec": {
      "name": "python3",
      "display_name": "Python 3"
    },
    "language_info": {
      "name": "python"
    }
  },
  "cells": [
    {
      "cell_type": "markdown",
      "metadata": {
        "id": "view-in-github",
        "colab_type": "text"
      },
      "source": [
        "<a href=\"https://colab.research.google.com/github/ajrianop/Python/blob/main/Numpy.ipynb\" target=\"_parent\"><img src=\"https://colab.research.google.com/assets/colab-badge.svg\" alt=\"Open In Colab\"/></a>"
      ]
    },
    {
      "cell_type": "markdown",
      "source": [
        "# **Numpy**"
      ],
      "metadata": {
        "id": "wJa-wOKmOM3A"
      }
    },
    {
      "cell_type": "markdown",
      "source": [
        "Numpy is a library in Python which offers us a lot of tools in order to do a lot of computing in a mathematical sense. We are going to initialize this as follows:"
      ],
      "metadata": {
        "id": "cbo0azLerSxg"
      }
    },
    {
      "cell_type": "code",
      "execution_count": 1,
      "metadata": {
        "id": "ZCbLHnDJMcWi"
      },
      "outputs": [],
      "source": [
        "import numpy as np"
      ]
    },
    {
      "cell_type": "markdown",
      "source": [
        "To see the version on numpy that we are using:"
      ],
      "metadata": {
        "id": "IrY6XDf7zvtV"
      }
    },
    {
      "cell_type": "code",
      "source": [
        "print(np.__version__)"
      ],
      "metadata": {
        "colab": {
          "base_uri": "https://localhost:8080/"
        },
        "id": "TETHayfbz13C",
        "outputId": "83ba12c8-7964-42c1-dbc9-4d7b78e998cf"
      },
      "execution_count": 2,
      "outputs": [
        {
          "output_type": "stream",
          "name": "stdout",
          "text": [
            "1.21.6\n"
          ]
        }
      ]
    },
    {
      "cell_type": "markdown",
      "source": [
        "## **Creating an array**"
      ],
      "metadata": {
        "id": "dLVrEEB8JaFl"
      }
    },
    {
      "cell_type": "markdown",
      "source": [
        "We can create some arrays to use numpy functions:"
      ],
      "metadata": {
        "id": "l6sScBN-NYUb"
      }
    },
    {
      "cell_type": "code",
      "source": [
        "'''\n",
        "There are two arrays 1-dimensional and 2-dimensional\n",
        "'''\n",
        "arr1=np.array([0,1,2,3,4])\n",
        "print(\"This is a 1-dimensional array:\\n\", arr1)\n",
        "arr2=np.array([(4,2,3),(9,3,5)])\n",
        "print(\"This is a 2-dimensional array:\\n\", arr2)"
      ],
      "metadata": {
        "colab": {
          "base_uri": "https://localhost:8080/"
        },
        "id": "7-3ByBaMNWsp",
        "outputId": "7af47448-9be0-46b3-e40e-2029a5a9d387"
      },
      "execution_count": 3,
      "outputs": [
        {
          "output_type": "stream",
          "name": "stdout",
          "text": [
            "This is a 1-dimensional array:\n",
            " [0 1 2 3 4]\n",
            "This is a 2-dimensional array:\n",
            " [[4 2 3]\n",
            " [9 3 5]]\n"
          ]
        }
      ]
    },
    {
      "cell_type": "markdown",
      "source": [
        "Let us see some attributes in order to know more about our array. "
      ],
      "metadata": {
        "id": "cptkgtX-m8R6"
      }
    },
    {
      "cell_type": "code",
      "source": [
        "#To see the dimension of the arrays\n",
        "print(f'Dimension of arr1= {arr1.ndim}')\n",
        "print(f'Dimension of arr2= {arr2.ndim}')"
      ],
      "metadata": {
        "colab": {
          "base_uri": "https://localhost:8080/"
        },
        "id": "WfYKrXponDXU",
        "outputId": "f4730c51-66d6-44ee-ba4c-5fc3b52ff64a"
      },
      "execution_count": 4,
      "outputs": [
        {
          "output_type": "stream",
          "name": "stdout",
          "text": [
            "Dimension of arr1= 1\n",
            "Dimension of arr2= 2\n"
          ]
        }
      ]
    },
    {
      "cell_type": "code",
      "source": [
        "#To see the size of the array\n",
        "print(f'Size of arr1= {arr1.size}')\n",
        "print(f'Size of arr2= {arr2.size}')"
      ],
      "metadata": {
        "colab": {
          "base_uri": "https://localhost:8080/"
        },
        "id": "AcV1BQaLnND2",
        "outputId": "c5dd8b6d-6ea1-4d39-f738-9dcfbc704bcb"
      },
      "execution_count": 5,
      "outputs": [
        {
          "output_type": "stream",
          "name": "stdout",
          "text": [
            "Size of arr1= 5\n",
            "Size of arr2= 6\n"
          ]
        }
      ]
    },
    {
      "cell_type": "code",
      "source": [
        "#To see the size of the array\n",
        "print(f'Shape of arr1= {arr1.shape}')\n",
        "print(f'Shape of arr2= {arr2.shape}')"
      ],
      "metadata": {
        "colab": {
          "base_uri": "https://localhost:8080/"
        },
        "id": "tF3VkL56xkGm",
        "outputId": "57e4e06b-52e7-4edf-8ba4-99a1e4883ea0"
      },
      "execution_count": 6,
      "outputs": [
        {
          "output_type": "stream",
          "name": "stdout",
          "text": [
            "Shape of arr1= (5,)\n",
            "Shape of arr2= (2, 3)\n"
          ]
        }
      ]
    },
    {
      "cell_type": "markdown",
      "source": [
        "## **Array using the function arange**"
      ],
      "metadata": {
        "id": "I29_SFrpJfAJ"
      }
    },
    {
      "cell_type": "markdown",
      "source": [
        "According to the uses of memory, we have that taking the usual way to obtain a range of number,and creating an array uses more memory if we use numpy libray."
      ],
      "metadata": {
        "id": "_yfOiYRaX0AK"
      }
    },
    {
      "cell_type": "code",
      "source": [
        "'''\n",
        "The module sys provides various functions and variables that are used to\n",
        "manipulate different parts of the Python runtime environment\n",
        "'''\n",
        "import sys\n",
        "rang1=range(500)\n",
        "mem_py=sys.getsizeof(3)*len(rang1)\n",
        "rang2=np.arange(500)\n",
        "mem_np=rang2.size*rang2.itemsize\n",
        "print(f\"Uses of memory only Python {mem_py}\\n Uses of memory with numpy {mem_np}\")"
      ],
      "metadata": {
        "colab": {
          "base_uri": "https://localhost:8080/"
        },
        "id": "Rf67HCHMN_12",
        "outputId": "241d4128-d938-45dc-d613-a3ec19900877"
      },
      "execution_count": 7,
      "outputs": [
        {
          "output_type": "stream",
          "name": "stdout",
          "text": [
            "Uses of memory only Python 14000\n",
            " Uses of memory with numpy 4000\n"
          ]
        }
      ]
    },
    {
      "cell_type": "code",
      "source": [
        "#https://www.youtube.com/watch?v=WxJr143Os-A&ab_channel=AprendeIAconLigdiGonzalez"
      ],
      "metadata": {
        "id": "uYXBoxewfDha"
      },
      "execution_count": 8,
      "outputs": []
    },
    {
      "cell_type": "markdown",
      "source": [
        "## **Creating matrices with entries zero, random and empty**"
      ],
      "metadata": {
        "id": "vqpuMmKXKFqW"
      }
    },
    {
      "cell_type": "code",
      "source": [
        "#Generate a matrix 3x3 with zeros\n",
        "zer=np.zeros((3,3))\n",
        "print(f'zer = {zer}')\n",
        "#Generating a matrix 4x4 with random values\n",
        "ran=np.random.random((4,4))\n",
        "print(f'ran= {ran}')\n",
        "#Return a new array of given shape and type, without initializing entries.\n",
        "emp=np.empty((2,2))\n",
        "print(f'emp= {emp}')\n",
        "#Generate a matrix 4x3 with values 6.\n",
        "ful=np.full((4,3),6)\n",
        "print(ful)"
      ],
      "metadata": {
        "colab": {
          "base_uri": "https://localhost:8080/"
        },
        "id": "7M3Ff_eNf02e",
        "outputId": "93bb43ed-85c2-4a49-8407-fcf72db01f6b"
      },
      "execution_count": 9,
      "outputs": [
        {
          "output_type": "stream",
          "name": "stdout",
          "text": [
            "zer = [[0. 0. 0.]\n",
            " [0. 0. 0.]\n",
            " [0. 0. 0.]]\n",
            "ran= [[0.07848358 0.16339974 0.35161127 0.3828615 ]\n",
            " [0.70326746 0.84317186 0.35964038 0.08173287]\n",
            " [0.85810313 0.3594545  0.74118086 0.99996048]\n",
            " [0.21834656 0.6133369  0.16446688 0.09190939]]\n",
            "emp= [[5.e-324 5.e-324]\n",
            " [5.e-324 0.e+000]]\n",
            "[[6 6 6]\n",
            " [6 6 6]\n",
            " [6 6 6]\n",
            " [6 6 6]]\n"
          ]
        }
      ]
    },
    {
      "cell_type": "markdown",
      "source": [
        "## **Slicing array according to the index**"
      ],
      "metadata": {
        "id": "kjTvD7puKPjA"
      }
    },
    {
      "cell_type": "code",
      "source": [
        "#Generating a range with values from 0 to 32 each four spaces\n",
        "rang=np.arange(0,32,4)\n",
        "print(f'Range of values from 0 to 32 with a space of 4 units=\\n{rang}')\n",
        "inter=np.linspace(0,6,13)\n",
        "print(f'Partition of the interval [0,6] into 13 pieces=\\n{inter}')"
      ],
      "metadata": {
        "colab": {
          "base_uri": "https://localhost:8080/"
        },
        "id": "WRhF7B8HgkzE",
        "outputId": "a578ef1c-1159-450f-c389-751196d98e15"
      },
      "execution_count": 10,
      "outputs": [
        {
          "output_type": "stream",
          "name": "stdout",
          "text": [
            "Range of values from 0 to 32 with a space of 4 units=\n",
            "[ 0  4  8 12 16 20 24 28]\n",
            "Partition of the interval [0,6] into 13 pieces=\n",
            "[0.  0.5 1.  1.5 2.  2.5 3.  3.5 4.  4.5 5.  5.5 6. ]\n"
          ]
        }
      ]
    },
    {
      "cell_type": "code",
      "source": [
        "#We want the type of data stored in each array, so\n",
        "print('data type of rang: {}'.format(rang.dtype))\n",
        "print('data type of inter: {}'.format(inter.dtype))"
      ],
      "metadata": {
        "colab": {
          "base_uri": "https://localhost:8080/"
        },
        "id": "dlbsswbczs-y",
        "outputId": "bdd4fc73-379f-4547-c5a6-033ed1324fea"
      },
      "execution_count": 11,
      "outputs": [
        {
          "output_type": "stream",
          "name": "stdout",
          "text": [
            "data type of rang: int64\n",
            "data type of inter: float64\n"
          ]
        }
      ]
    },
    {
      "cell_type": "code",
      "source": [
        "#We can change an element in each entry of an array\n",
        "array=np.array([2,4,78,12,32,10,9])\n",
        "print(f'original array: {array}')\n",
        "array[2]=21\n",
        "print(f'new array: {array}')"
      ],
      "metadata": {
        "colab": {
          "base_uri": "https://localhost:8080/"
        },
        "id": "A8vr9yUA3b_H",
        "outputId": "385abbb2-93c5-4205-a68a-bfb24651c46f"
      },
      "execution_count": 12,
      "outputs": [
        {
          "output_type": "stream",
          "name": "stdout",
          "text": [
            "original array: [ 2  4 78 12 32 10  9]\n",
            "new array: [ 2  4 21 12 32 10  9]\n"
          ]
        }
      ]
    },
    {
      "cell_type": "code",
      "source": [
        "#Slicing the array\n",
        "array[1:4]"
      ],
      "metadata": {
        "colab": {
          "base_uri": "https://localhost:8080/"
        },
        "id": "_LmoYaKZ6Ra1",
        "outputId": "4a7fbc22-37c5-4126-bd75-c7f5e0e081b8"
      },
      "execution_count": 13,
      "outputs": [
        {
          "output_type": "execute_result",
          "data": {
            "text/plain": [
              "array([ 4, 21, 12])"
            ]
          },
          "metadata": {},
          "execution_count": 13
        }
      ]
    },
    {
      "cell_type": "code",
      "source": [
        "#Re-writing the values from 2 to 5\n",
        "print(f'Array given: {array}')\n",
        "array[2:6]= 14 , 15 , 16 , 17\n",
        "print(f'New array: {array}')"
      ],
      "metadata": {
        "id": "BEX3tZrpkbbm",
        "colab": {
          "base_uri": "https://localhost:8080/"
        },
        "outputId": "7e4b2387-7e94-430e-f662-7417163c93c8"
      },
      "execution_count": 14,
      "outputs": [
        {
          "output_type": "stream",
          "name": "stdout",
          "text": [
            "Array given: [ 2  4 21 12 32 10  9]\n",
            "New array: [ 2  4 14 15 16 17  9]\n"
          ]
        }
      ]
    },
    {
      "cell_type": "code",
      "source": [
        "#Step slicing array[begin: end: step]\n",
        "array[1:6:2]"
      ],
      "metadata": {
        "colab": {
          "base_uri": "https://localhost:8080/"
        },
        "id": "aPqZeMYF7Wit",
        "outputId": "68bda553-4213-4980-daa0-2238d9e0cf74"
      },
      "execution_count": 15,
      "outputs": [
        {
          "output_type": "execute_result",
          "data": {
            "text/plain": [
              "array([ 4, 15, 17])"
            ]
          },
          "metadata": {},
          "execution_count": 15
        }
      ]
    },
    {
      "cell_type": "markdown",
      "source": [
        "## **Assign values according to a list related to the index**"
      ],
      "metadata": {
        "id": "VDDCGwJhKapS"
      }
    },
    {
      "cell_type": "code",
      "source": [
        "#According to the array\n",
        "arr=np.linspace(10,130,13)\n",
        "print(f'Array: {arr}')\n",
        "#We define an index list call select\n",
        "select=[2,4,9]\n",
        "new_arr=arr[select]\n",
        "print(f'Array with the entries according to the list index \"select\": {new_arr}')\n",
        "#We can modify all the element considered by select\n",
        "arr[select]= 10\n",
        "print(f'Array with new value in the position by \"select\": {arr}')\n",
        "arr[select]= 30.0 , 50.0 , 100.0\n",
        "print(f'Recovering the information in the position by \"select\": {arr}')"
      ],
      "metadata": {
        "colab": {
          "base_uri": "https://localhost:8080/"
        },
        "id": "UZ7EPqEM7s3e",
        "outputId": "bda1ee63-1a6e-414a-b16d-f9c0465bc922"
      },
      "execution_count": 16,
      "outputs": [
        {
          "output_type": "stream",
          "name": "stdout",
          "text": [
            "Array: [ 10.  20.  30.  40.  50.  60.  70.  80.  90. 100. 110. 120. 130.]\n",
            "Array with the entries according to the list index \"select\": [ 30.  50. 100.]\n",
            "Array with new value in the position by \"select\": [ 10.  20.  10.  40.  10.  60.  70.  80.  90.  10. 110. 120. 130.]\n",
            "Recovering the information in the position by \"select\": [ 10.  20.  30.  40.  50.  60.  70.  80.  90. 100. 110. 120. 130.]\n"
          ]
        }
      ]
    },
    {
      "cell_type": "markdown",
      "source": [
        "## **Functions with numpy (mathematical and statistics)**"
      ],
      "metadata": {
        "id": "1trbucKqx66B"
      }
    },
    {
      "cell_type": "markdown",
      "source": [
        "In statistics we have some relevant functions as the mean, median, mode, standar deviation, between other.\n",
        "\n"
      ],
      "metadata": {
        "id": "ISyZMN66m0UX"
      }
    },
    {
      "cell_type": "code",
      "source": [
        "x=np.array([10,20,10,30,40])"
      ],
      "metadata": {
        "id": "NfoWhw54zoEc"
      },
      "execution_count": 17,
      "outputs": []
    },
    {
      "cell_type": "code",
      "source": [
        "print(f'Mean of x= {x.mean()}')\n",
        "print(f'Median of x= {np.median(x)}')"
      ],
      "metadata": {
        "colab": {
          "base_uri": "https://localhost:8080/"
        },
        "id": "mS9lY4q71Qhz",
        "outputId": "5bb9b82c-54bd-4537-cda6-378bfa4edcfb"
      },
      "execution_count": 18,
      "outputs": [
        {
          "output_type": "stream",
          "name": "stdout",
          "text": [
            "Mean of x= 22.0\n",
            "Median of x= 20.0\n"
          ]
        }
      ]
    },
    {
      "cell_type": "code",
      "source": [
        "#To print the mode with numpy it is necessary to call\n",
        "from scipy import stats as st\n",
        "print(f'Mode of x = {st.mode(x)[0][0]}')\n",
        "print(f'with {st.mode(x)[1][0]} of repetition.')"
      ],
      "metadata": {
        "colab": {
          "base_uri": "https://localhost:8080/"
        },
        "id": "04PlbozIDjDa",
        "outputId": "4791384b-7972-40c1-e3da-00ea2eab8d0c"
      },
      "execution_count": 19,
      "outputs": [
        {
          "output_type": "stream",
          "name": "stdout",
          "text": [
            "Mode of x = 10\n",
            "with 2 of repetition.\n"
          ]
        }
      ]
    },
    {
      "cell_type": "code",
      "source": [
        "#Standard deviation is\n",
        "print(f'Standard deviation of x = {x.std()}')"
      ],
      "metadata": {
        "id": "mSPFf7eg1Qru",
        "colab": {
          "base_uri": "https://localhost:8080/"
        },
        "outputId": "6f8c7571-59ea-4b61-bc57-0a1d9091ab04"
      },
      "execution_count": 20,
      "outputs": [
        {
          "output_type": "stream",
          "name": "stdout",
          "text": [
            "Standard deviation of x = 11.661903789690601\n"
          ]
        }
      ]
    },
    {
      "cell_type": "code",
      "source": [
        "#Maximum value\n",
        "print(f'Maximum value of x = {x.max()}')\n",
        "#Minumum value\n",
        "print(f'Minimum value of x = {x.min()}')"
      ],
      "metadata": {
        "colab": {
          "base_uri": "https://localhost:8080/"
        },
        "id": "fY7hur_YEsli",
        "outputId": "fc74deed-16b4-4435-c173-8e1355a8b0a5"
      },
      "execution_count": 21,
      "outputs": [
        {
          "output_type": "stream",
          "name": "stdout",
          "text": [
            "Maximum value of x = 40\n",
            "Minimum value of x = 10\n"
          ]
        }
      ]
    },
    {
      "cell_type": "markdown",
      "source": [
        "## **Computing arrays**"
      ],
      "metadata": {
        "id": "SuDZ1fH1FDMX"
      }
    },
    {
      "cell_type": "markdown",
      "source": [
        "Let us call some arrays in order to compute them:"
      ],
      "metadata": {
        "id": "2Mm2HyBY7rX2"
      }
    },
    {
      "cell_type": "code",
      "source": [
        "u=np.array([2,1,1])\n",
        "v=np.array([0,1,-1])\n",
        "#The sum of the two arrays are described as\n",
        "sum=np.add(u,v)\n",
        "#Note that the sum is component by component\n",
        "sum"
      ],
      "metadata": {
        "id": "qgkjfzWaFIMF",
        "colab": {
          "base_uri": "https://localhost:8080/"
        },
        "outputId": "c2cf417d-b16f-4125-97da-eef412941e58"
      },
      "execution_count": 22,
      "outputs": [
        {
          "output_type": "execute_result",
          "data": {
            "text/plain": [
              "array([2, 2, 0])"
            ]
          },
          "metadata": {},
          "execution_count": 22
        }
      ]
    },
    {
      "cell_type": "code",
      "source": [
        "#to subtract to arrays\n",
        "sub=np.subtract(u,v)\n",
        "sub"
      ],
      "metadata": {
        "colab": {
          "base_uri": "https://localhost:8080/"
        },
        "id": "lH7Qi9638SpZ",
        "outputId": "5be7cce0-5346-4c8a-8df8-2c4bfd284279"
      },
      "execution_count": 23,
      "outputs": [
        {
          "output_type": "execute_result",
          "data": {
            "text/plain": [
              "array([2, 0, 2])"
            ]
          },
          "metadata": {},
          "execution_count": 23
        }
      ]
    },
    {
      "cell_type": "code",
      "source": [
        "#To multiply\n",
        "mult=np.multiply(u,v)\n",
        "mult"
      ],
      "metadata": {
        "colab": {
          "base_uri": "https://localhost:8080/"
        },
        "id": "fZDCnKlr9pW-",
        "outputId": "5fc48fd1-89ac-473b-a0ab-981881ad6183"
      },
      "execution_count": 24,
      "outputs": [
        {
          "output_type": "execute_result",
          "data": {
            "text/plain": [
              "array([ 0,  1, -1])"
            ]
          },
          "metadata": {},
          "execution_count": 24
        }
      ]
    },
    {
      "cell_type": "code",
      "source": [
        "#To divide \n",
        "div= np.divide(v,u)\n",
        "div"
      ],
      "metadata": {
        "colab": {
          "base_uri": "https://localhost:8080/"
        },
        "id": "iq2FQeU692_J",
        "outputId": "07c1ddd7-8fb7-4486-e581-9d6af4413e64"
      },
      "execution_count": 25,
      "outputs": [
        {
          "output_type": "execute_result",
          "data": {
            "text/plain": [
              "array([ 0.,  1., -1.])"
            ]
          },
          "metadata": {},
          "execution_count": 25
        }
      ]
    },
    {
      "cell_type": "code",
      "source": [
        "#Dot product\n",
        "dot=np.dot(u,v)\n",
        "dot"
      ],
      "metadata": {
        "colab": {
          "base_uri": "https://localhost:8080/"
        },
        "id": "P0MmNWYv-VbF",
        "outputId": "f25327a2-3895-496c-99b4-e984040e5225"
      },
      "execution_count": 26,
      "outputs": [
        {
          "output_type": "execute_result",
          "data": {
            "text/plain": [
              "0"
            ]
          },
          "metadata": {},
          "execution_count": 26
        }
      ]
    },
    {
      "cell_type": "code",
      "source": [
        "#Adding a constant\n",
        "ad=u+1\n",
        "ad"
      ],
      "metadata": {
        "colab": {
          "base_uri": "https://localhost:8080/"
        },
        "id": "QhfBL3v2--T7",
        "outputId": "6c3b8e49-bdb2-4a2d-8753-9738b56756e0"
      },
      "execution_count": 27,
      "outputs": [
        {
          "output_type": "execute_result",
          "data": {
            "text/plain": [
              "array([3, 2, 2])"
            ]
          },
          "metadata": {},
          "execution_count": 27
        }
      ]
    },
    {
      "cell_type": "markdown",
      "source": [
        "## **Numpy functions**"
      ],
      "metadata": {
        "id": "ZiCRXhTdAUI_"
      }
    },
    {
      "cell_type": "markdown",
      "source": [
        "We can compute some values of functions, given an specific array. This proccess will be described as follow:\n",
        "\n",
        "\n",
        "*   We create an array with the values we want to be evaluated in the function.\n",
        "*   Apply the function over the array to obtain the image of this array.\n",
        "\n",
        "See the functions what you can apply for:\n",
        "https://numpy.org/doc/stable/reference/routines.math.html\n",
        "\n"
      ],
      "metadata": {
        "id": "LoGBlAEcAWl-"
      }
    },
    {
      "cell_type": "code",
      "source": [
        "a=[1,4,9,16,25,36,49,64,81]\n",
        "#Function square root\n",
        "np.sqrt(a)"
      ],
      "metadata": {
        "colab": {
          "base_uri": "https://localhost:8080/"
        },
        "id": "Pr_4MMiVBjkq",
        "outputId": "2e95ec6b-5085-468f-afa9-8de3a1cd663a"
      },
      "execution_count": 28,
      "outputs": [
        {
          "output_type": "execute_result",
          "data": {
            "text/plain": [
              "array([1., 2., 3., 4., 5., 6., 7., 8., 9.])"
            ]
          },
          "metadata": {},
          "execution_count": 28
        }
      ]
    },
    {
      "cell_type": "markdown",
      "source": [
        "Let us see a useful tool using numpy and mathplotlib (which is a library with allows us to plot some function)"
      ],
      "metadata": {
        "id": "ErT3gVvxDsP-"
      }
    },
    {
      "cell_type": "code",
      "source": [
        "import matplotlib.pyplot as plt"
      ],
      "metadata": {
        "id": "DqI85uLbDyTU"
      },
      "execution_count": 29,
      "outputs": []
    },
    {
      "cell_type": "code",
      "source": [
        "#Let us initialize some elements in an inteval\n",
        "pi=np.pi\n",
        "x=np.linspace(1,2*pi, num=10)\n",
        "x"
      ],
      "metadata": {
        "colab": {
          "base_uri": "https://localhost:8080/"
        },
        "id": "l1iLdvlrD5St",
        "outputId": "2fa2c982-e073-4bda-c6ab-a04a9a67d65b"
      },
      "execution_count": 30,
      "outputs": [
        {
          "output_type": "execute_result",
          "data": {
            "text/plain": [
              "array([1.        , 1.58702059, 2.17404118, 2.76106177, 3.34808236,\n",
              "       3.93510295, 4.52212354, 5.10914413, 5.69616472, 6.28318531])"
            ]
          },
          "metadata": {},
          "execution_count": 30
        }
      ]
    },
    {
      "cell_type": "code",
      "source": [
        "#Sine function\n",
        "y=np.sin(x)\n",
        "print('Values of the function y=sin(x): ')\n",
        "for v in zip(x,y):\n",
        "  print(v)"
      ],
      "metadata": {
        "colab": {
          "base_uri": "https://localhost:8080/"
        },
        "id": "GaFlRbm1DCNA",
        "outputId": "a1aea065-91f5-4cae-9199-1032339f9a26"
      },
      "execution_count": 31,
      "outputs": [
        {
          "output_type": "stream",
          "name": "stdout",
          "text": [
            "Values of the function y=sin(x): \n",
            "(1.0, 0.8414709848078965)\n",
            "(1.5870205896866207, 0.9998683895337972)\n",
            "(2.1740411793732415, 0.8234990915355329)\n",
            "(2.7610617690598622, 0.3714134308085343)\n",
            "(3.348082358746483, -0.2050254456824077)\n",
            "(3.9351029484331037, -0.7128195953832024)\n",
            "(4.5221235381197245, -0.9819540693892069)\n",
            "(5.109144127806346, -0.9223197479447683)\n",
            "(5.696164717492966, -0.5538828439716256)\n",
            "(6.283185307179586, -2.4492935982947064e-16)\n"
          ]
        }
      ]
    },
    {
      "cell_type": "code",
      "source": [
        "#Plotting the function sin(x) from 0 to 2pi with only 10 values\n",
        "plt.plot(x,y)"
      ],
      "metadata": {
        "colab": {
          "base_uri": "https://localhost:8080/",
          "height": 282
        },
        "id": "LicnvU9-Eak7",
        "outputId": "1380ac72-fb3e-4e32-fa06-e09e95ac43bd"
      },
      "execution_count": 32,
      "outputs": [
        {
          "output_type": "execute_result",
          "data": {
            "text/plain": [
              "[<matplotlib.lines.Line2D at 0x7ffbaf95a750>]"
            ]
          },
          "metadata": {},
          "execution_count": 32
        },
        {
          "output_type": "display_data",
          "data": {
            "text/plain": [
              "<Figure size 432x288 with 1 Axes>"
            ],
            "image/png": "[encoded data removed]"
          },
          "metadata": {
            "needs_background": "light"
          }
        }
      ]
    },
    {
      "cell_type": "code",
      "source": [
        "##Plotting the function cos(x) from -2pi to 2pi with only 100 values\n",
        "x=np.linspace(-2*pi,2*pi, num=100)\n",
        "y=np.cos(x)\n",
        "plt.plot(x,y)\n",
        "plt.title('Ccosine function')"
      ],
      "metadata": {
        "colab": {
          "base_uri": "https://localhost:8080/",
          "height": 298
        },
        "id": "TPA-QiTBE4FU",
        "outputId": "698d0e3e-cf5c-432a-f8fc-efbec080d0dc"
      },
      "execution_count": 33,
      "outputs": [
        {
          "output_type": "execute_result",
          "data": {
            "text/plain": [
              "Text(0.5, 1.0, 'Ccosine function')"
            ]
          },
          "metadata": {},
          "execution_count": 33
        },
        {
          "output_type": "display_data",
          "data": {
            "text/plain": [
              "<Figure size 432x288 with 1 Axes>"
            ],
            "image/png": "[encoded data removed]"
          },
          "metadata": {
            "needs_background": "light"
          }
        }
      ]
    },
    {
      "cell_type": "markdown",
      "source": [
        "## **Computing 2D arrays**"
      ],
      "metadata": {
        "id": "Ae7M-uC7KteA"
      }
    },
    {
      "cell_type": "markdown",
      "source": [
        "A 2D array is an element described as an array with has some 1.dim arrays inside. This elements can be related to a matrix in linear algebra."
      ],
      "metadata": {
        "id": "dHxpy3MEPVu8"
      }
    },
    {
      "cell_type": "code",
      "source": [
        "X=np.array([ [2 , 0 , 4, 8], [2, 1 , 3 , -1], [5 , 4 , 0 , -2] , [4 , -1 , 1 , 0] ])\n",
        "print(f'The X array is an {X.ndim}-D array \\nX=\\n{X}' )\n",
        "print(f'The shape of the X is {X.shape}')\n",
        "print(f'The size of the X is {X.size}')"
      ],
      "metadata": {
        "colab": {
          "base_uri": "https://localhost:8080/"
        },
        "id": "0Cb5mbCkRFjd",
        "outputId": "e12730df-8fbc-4eee-de9f-2f5763564ec2"
      },
      "execution_count": 34,
      "outputs": [
        {
          "output_type": "stream",
          "name": "stdout",
          "text": [
            "The X array is an 2-D array \n",
            "X=\n",
            "[[ 2  0  4  8]\n",
            " [ 2  1  3 -1]\n",
            " [ 5  4  0 -2]\n",
            " [ 4 -1  1  0]]\n",
            "The shape of the X is (4, 4)\n",
            "The size of the X is 16\n"
          ]
        }
      ]
    },
    {
      "cell_type": "markdown",
      "source": [
        "We also can describe arrays with an ndim greater than 2."
      ],
      "metadata": {
        "id": "_w0D22UnPV0e"
      }
    },
    {
      "cell_type": "code",
      "source": [
        "Y=np.array(\n",
        "    [\n",
        "      [\n",
        "          [1, 2], [3, 4]\n",
        "       ],\n",
        "      [\n",
        "          [5, 6], [7, 8]\n",
        "       ]\n",
        "    ])\n",
        "print(f'The X array is an {Y.ndim}-D array \\nY=\\n{Y}' )\n",
        "print(f'The shape of the Y is {Y.shape}')\n",
        "print(f'The size of the Y is {Y.size}')"
      ],
      "metadata": {
        "colab": {
          "base_uri": "https://localhost:8080/"
        },
        "id": "JFjCLsFPFUQu",
        "outputId": "fbf276bc-8b96-4d64-eb22-3b45b7de3bd8"
      },
      "execution_count": 35,
      "outputs": [
        {
          "output_type": "stream",
          "name": "stdout",
          "text": [
            "The X array is an 3-D array \n",
            "Y=\n",
            "[[[1 2]\n",
            "  [3 4]]\n",
            "\n",
            " [[5 6]\n",
            "  [7 8]]]\n",
            "The shape of the Y is (2, 2, 2)\n",
            "The size of the Y is 8\n"
          ]
        }
      ]
    },
    {
      "cell_type": "markdown",
      "source": [
        "We could extract some data according to the location of the number of word in the array. So similar as in lists, we can start to find the object according to the index (location in the array)."
      ],
      "metadata": {
        "id": "AtMOH-m9TFIs"
      }
    },
    {
      "cell_type": "code",
      "source": [
        "print(f'We print the array X=\\n{X}')"
      ],
      "metadata": {
        "colab": {
          "base_uri": "https://localhost:8080/"
        },
        "id": "62QjXR_1URW6",
        "outputId": "20a407ff-c2c3-46eb-ffab-1e961565ddb3"
      },
      "execution_count": 36,
      "outputs": [
        {
          "output_type": "stream",
          "name": "stdout",
          "text": [
            "We print the array X=\n",
            "[[ 2  0  4  8]\n",
            " [ 2  1  3 -1]\n",
            " [ 5  4  0 -2]\n",
            " [ 4 -1  1  0]]\n"
          ]
        }
      ]
    },
    {
      "cell_type": "code",
      "source": [
        "#The componen (2,3) in the 2D-array gives us\n",
        "#using the location X[i,j]\n",
        "print(f'Component (2,3) in X is \\n{X[1,2]}')"
      ],
      "metadata": {
        "colab": {
          "base_uri": "https://localhost:8080/"
        },
        "id": "4mJCGmEDTVCP",
        "outputId": "620c8f0a-82f7-4b10-976a-84ea540d344d"
      },
      "execution_count": 37,
      "outputs": [
        {
          "output_type": "stream",
          "name": "stdout",
          "text": [
            "Component (2,3) in X is \n",
            "3\n"
          ]
        }
      ]
    },
    {
      "cell_type": "code",
      "source": [
        "#The componen (3,2) in the 2D-array gives us\n",
        "#using the location X[i][j]\n",
        "print(f'Component (2,3) in X is \\n{X[2][1]}')"
      ],
      "metadata": {
        "colab": {
          "base_uri": "https://localhost:8080/"
        },
        "id": "5723JLQ8T3RX",
        "outputId": "a60efb23-759f-4d76-87a0-0c3ed2e5e555"
      },
      "execution_count": 38,
      "outputs": [
        {
          "output_type": "stream",
          "name": "stdout",
          "text": [
            "Component (2,3) in X is \n",
            "4\n"
          ]
        }
      ]
    },
    {
      "cell_type": "markdown",
      "source": [
        "We can take more than one element, in this order we can compare this case as slice a string:"
      ],
      "metadata": {
        "id": "SVd-wmDgUE-b"
      }
    },
    {
      "cell_type": "code",
      "source": [
        "#Slicing the row 3 from 2 to 3 column\n",
        "X[2, 1:3]"
      ],
      "metadata": {
        "colab": {
          "base_uri": "https://localhost:8080/"
        },
        "id": "E_viQpX_UPZl",
        "outputId": "f591ca68-76e9-4a79-c98a-b759bafe064c"
      },
      "execution_count": 39,
      "outputs": [
        {
          "output_type": "execute_result",
          "data": {
            "text/plain": [
              "array([4, 0])"
            ]
          },
          "metadata": {},
          "execution_count": 39
        }
      ]
    },
    {
      "cell_type": "markdown",
      "source": [
        "### **Some methods and operations**"
      ],
      "metadata": {
        "id": "i11n7hPmSUVe"
      }
    },
    {
      "cell_type": "markdown",
      "source": [
        "Consider two 2D-arrays and sum, subtract, multiply a real number"
      ],
      "metadata": {
        "id": "WsuHFNF_VTGw"
      }
    },
    {
      "cell_type": "code",
      "source": [
        "U=np.array([[2,3] , [-1,1]])\n",
        "V=np.array([[-1,0] , [2,2]])"
      ],
      "metadata": {
        "id": "bdHNKjW5SZWH"
      },
      "execution_count": 40,
      "outputs": []
    },
    {
      "cell_type": "code",
      "source": [
        "#Sum\n",
        "U+V"
      ],
      "metadata": {
        "colab": {
          "base_uri": "https://localhost:8080/"
        },
        "id": "4-8nT54-VkM4",
        "outputId": "99e36089-4d4a-47ea-e965-0bfaf0b855f0"
      },
      "execution_count": 41,
      "outputs": [
        {
          "output_type": "execute_result",
          "data": {
            "text/plain": [
              "array([[1, 3],\n",
              "       [1, 3]])"
            ]
          },
          "metadata": {},
          "execution_count": 41
        }
      ]
    },
    {
      "cell_type": "code",
      "source": [
        "#Subtrat\n",
        "U-V"
      ],
      "metadata": {
        "colab": {
          "base_uri": "https://localhost:8080/"
        },
        "id": "CvDlE-6IVqiv",
        "outputId": "a283d5e3-7105-425d-9b6d-6f115d6f85d3"
      },
      "execution_count": 42,
      "outputs": [
        {
          "output_type": "execute_result",
          "data": {
            "text/plain": [
              "array([[ 3,  3],\n",
              "       [-3, -1]])"
            ]
          },
          "metadata": {},
          "execution_count": 42
        }
      ]
    },
    {
      "cell_type": "code",
      "source": [
        "#Multiplying a real number\n",
        "0.5* U"
      ],
      "metadata": {
        "colab": {
          "base_uri": "https://localhost:8080/"
        },
        "id": "tD90mhSqWCVH",
        "outputId": "97a0d530-46dd-4cd5-98d0-d6e14667d65b"
      },
      "execution_count": 43,
      "outputs": [
        {
          "output_type": "execute_result",
          "data": {
            "text/plain": [
              "array([[ 1. ,  1.5],\n",
              "       [-0.5,  0.5]])"
            ]
          },
          "metadata": {},
          "execution_count": 43
        }
      ]
    },
    {
      "cell_type": "code",
      "source": [
        "#Multiplication component by component\n",
        "U*V"
      ],
      "metadata": {
        "colab": {
          "base_uri": "https://localhost:8080/"
        },
        "id": "tLcn8d9yWUoy",
        "outputId": "20a056de-359f-475d-c4a2-5f989305b6c2"
      },
      "execution_count": 44,
      "outputs": [
        {
          "output_type": "execute_result",
          "data": {
            "text/plain": [
              "array([[-2,  0],\n",
              "       [-2,  2]])"
            ]
          },
          "metadata": {},
          "execution_count": 44
        }
      ]
    },
    {
      "cell_type": "code",
      "source": [
        "#Matrix Multiplication (Usual sense as in linear algebra)\n",
        "W=np.dot(U,V)\n",
        "W"
      ],
      "metadata": {
        "colab": {
          "base_uri": "https://localhost:8080/"
        },
        "id": "uVglE-tfWfMu",
        "outputId": "23b58a91-aa89-4893-d50a-dbd24e7bf14a"
      },
      "execution_count": 45,
      "outputs": [
        {
          "output_type": "execute_result",
          "data": {
            "text/plain": [
              "array([[4, 6],\n",
              "       [3, 2]])"
            ]
          },
          "metadata": {},
          "execution_count": 45
        }
      ]
    },
    {
      "cell_type": "markdown",
      "source": [
        "We can compute some values according to the 2D-array evaluated in a numpy function"
      ],
      "metadata": {
        "id": "hYELSJ7OWy8y"
      }
    },
    {
      "cell_type": "code",
      "source": [
        "print(f'The image of tan(\\n{W}\\n) is described as \\n{np.tan(W)}')"
      ],
      "metadata": {
        "colab": {
          "base_uri": "https://localhost:8080/"
        },
        "id": "Ko3GyCChWyP0",
        "outputId": "9f8fb777-176f-4470-df73-6ecc872571db"
      },
      "execution_count": 46,
      "outputs": [
        {
          "output_type": "stream",
          "name": "stdout",
          "text": [
            "The image of tan(\n",
            "[[4 6]\n",
            " [3 2]]\n",
            ") is described as \n",
            "[[ 1.15782128 -0.29100619]\n",
            " [-0.14254654 -2.18503986]]\n"
          ]
        }
      ]
    },
    {
      "cell_type": "markdown",
      "source": [
        "Now let us consider a matrix $Z$ of 2x4 shape. We are going to print the transpose of $Z$, writting as $Z^{T}.$ The transpose matrix change all the columns of $Z$ and convert each one in a row. "
      ],
      "metadata": {
        "id": "mXZLHXypXn0M"
      }
    },
    {
      "cell_type": "code",
      "source": [
        "Z=np.array([[1 , 2 , 3 , 4], [-1, 0 , 1 , 4]])\n",
        "Z_t=Z.T\n",
        "print(f'The transpose of \\n\\n{Z} \\n\\nis \\n\\n{Z_t}')"
      ],
      "metadata": {
        "colab": {
          "base_uri": "https://localhost:8080/"
        },
        "id": "1JBYUSVdXuO-",
        "outputId": "955efd4b-4a13-4dbd-cf14-59c979a4f590"
      },
      "execution_count": 47,
      "outputs": [
        {
          "output_type": "stream",
          "name": "stdout",
          "text": [
            "The transpose of \n",
            "\n",
            "[[ 1  2  3  4]\n",
            " [-1  0  1  4]] \n",
            "\n",
            "is \n",
            "\n",
            "[[ 1 -1]\n",
            " [ 2  0]\n",
            " [ 3  1]\n",
            " [ 4  4]]\n"
          ]
        }
      ]
    },
    {
      "cell_type": "markdown",
      "source": [
        "## ***Exercises:***"
      ],
      "metadata": {
        "id": "8_OpCgDO8bNA"
      }
    },
    {
      "cell_type": "markdown",
      "source": [
        "1. Create an array with the number from 0 to 15"
      ],
      "metadata": {
        "id": "N1pTPVvT8fOO"
      }
    },
    {
      "cell_type": "code",
      "source": [
        "exer1=np.arange(0,16,1)\n",
        "exer1"
      ],
      "metadata": {
        "colab": {
          "base_uri": "https://localhost:8080/"
        },
        "id": "GQ_v42D78nRM",
        "outputId": "8ef1f25f-53bf-487d-e5ca-2eeb4d9a69ae"
      },
      "execution_count": 48,
      "outputs": [
        {
          "output_type": "execute_result",
          "data": {
            "text/plain": [
              "array([ 0,  1,  2,  3,  4,  5,  6,  7,  8,  9, 10, 11, 12, 13, 14, 15])"
            ]
          },
          "metadata": {},
          "execution_count": 48
        }
      ]
    },
    {
      "cell_type": "markdown",
      "source": [
        "2. Write the odd number in the array given before"
      ],
      "metadata": {
        "id": "W2MaanrD-WlL"
      }
    },
    {
      "cell_type": "code",
      "source": [
        "exer2=exer1[::2]\n",
        "exer2"
      ],
      "metadata": {
        "colab": {
          "base_uri": "https://localhost:8080/"
        },
        "id": "RTS9b-9L8amN",
        "outputId": "c0930bd6-9ab0-4fef-a82a-f3be36050829"
      },
      "execution_count": 49,
      "outputs": [
        {
          "output_type": "execute_result",
          "data": {
            "text/plain": [
              "array([ 0,  2,  4,  6,  8, 10, 12, 14])"
            ]
          },
          "metadata": {},
          "execution_count": 49
        }
      ]
    }
  ]
}