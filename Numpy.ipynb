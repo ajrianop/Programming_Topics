{
  "nbformat": 4,
  "nbformat_minor": 0,
  "metadata": {
    "colab": {
      "provenance": [],
      "authorship_tag": "ABX9TyNH8KyCmF4hrxp6qqexEbU1",
      "include_colab_link": true
    },
    "kernelspec": {
      "name": "python3",
      "display_name": "Python 3"
    },
    "language_info": {
      "name": "python"
    }
  },
  "cells": [
    {
      "cell_type": "markdown",
      "metadata": {
        "id": "view-in-github",
        "colab_type": "text"
      },
      "source": [
        "<a href=\"https://colab.research.google.com/github/ajrianop/Python/blob/main/Numpy.ipynb\" target=\"_parent\"><img src=\"https://colab.research.google.com/assets/colab-badge.svg\" alt=\"Open In Colab\"/></a>"
      ]
    },
    {
      "cell_type": "markdown",
      "source": [
        "# **Numpy**"
      ],
      "metadata": {
        "id": "wJa-wOKmOM3A"
      }
    },
    {
      "cell_type": "markdown",
      "source": [
        "Numpy is a library in Python which offers us a lot of tools in order to do a lot of computing in a mathematical sense. We are going to initialize this as follows:"
      ],
      "metadata": {
        "id": "cbo0azLerSxg"
      }
    },
    {
      "cell_type": "code",
      "execution_count": 1,
      "metadata": {
        "id": "ZCbLHnDJMcWi"
      },
      "outputs": [],
      "source": [
        "import numpy as np"
      ]
    },
    {
      "cell_type": "markdown",
      "source": [
        "To see the version on numpy that we are using:"
      ],
      "metadata": {
        "id": "IrY6XDf7zvtV"
      }
    },
    {
      "cell_type": "code",
      "source": [
        "print(np.__version__)"
      ],
      "metadata": {
        "colab": {
          "base_uri": "https://localhost:8080/"
        },
        "id": "TETHayfbz13C",
        "outputId": "d44c0a5e-c14a-4a8e-b6bb-6629d1a85912"
      },
      "execution_count": 2,
      "outputs": [
        {
          "output_type": "stream",
          "name": "stdout",
          "text": [
            "1.21.6\n"
          ]
        }
      ]
    },
    {
      "cell_type": "markdown",
      "source": [
        "## **Creating an array**"
      ],
      "metadata": {
        "id": "dLVrEEB8JaFl"
      }
    },
    {
      "cell_type": "markdown",
      "source": [
        "We can create some arrays to use numpy functions:"
      ],
      "metadata": {
        "id": "l6sScBN-NYUb"
      }
    },
    {
      "cell_type": "code",
      "source": [
        "'''\n",
        "There are two arrays 1-dimensional and 2-dimensional\n",
        "'''\n",
        "arr1=np.array([0,1,2,3,4])\n",
        "print(\"This is a 1-dimensional array:\\n\", arr1)\n",
        "arr2=np.array([(4,2,3),(9,3,5)])\n",
        "print(\"This is a 2-dimensional array:\\n\", arr2)"
      ],
      "metadata": {
        "colab": {
          "base_uri": "https://localhost:8080/"
        },
        "id": "7-3ByBaMNWsp",
        "outputId": "e2b9bff4-9713-4d48-f714-cfe8f1f6de99"
      },
      "execution_count": 3,
      "outputs": [
        {
          "output_type": "stream",
          "name": "stdout",
          "text": [
            "This is a 1-dimensional array:\n",
            " [0 1 2 3 4]\n",
            "This is a 2-dimensional array:\n",
            " [[4 2 3]\n",
            " [9 3 5]]\n"
          ]
        }
      ]
    },
    {
      "cell_type": "markdown",
      "source": [
        "Let us see some attributes in order to know more about our array. "
      ],
      "metadata": {
        "id": "cptkgtX-m8R6"
      }
    },
    {
      "cell_type": "code",
      "source": [
        "#To see the dimension of the arrays\n",
        "print(f'Dimension of arr1= {arr1.ndim}')\n",
        "print(f'Dimension of arr2= {arr2.ndim}')"
      ],
      "metadata": {
        "colab": {
          "base_uri": "https://localhost:8080/"
        },
        "id": "WfYKrXponDXU",
        "outputId": "1ec3e9ab-156f-4603-e2a6-9a02e3856ae7"
      },
      "execution_count": 4,
      "outputs": [
        {
          "output_type": "stream",
          "name": "stdout",
          "text": [
            "Dimension of arr1= 1\n",
            "Dimension of arr2= 2\n"
          ]
        }
      ]
    },
    {
      "cell_type": "code",
      "source": [
        "#To see the size of the array\n",
        "print(f'Size of arr1= {arr1.size}')\n",
        "print(f'Size of arr2= {arr2.size}')"
      ],
      "metadata": {
        "colab": {
          "base_uri": "https://localhost:8080/"
        },
        "id": "AcV1BQaLnND2",
        "outputId": "07a3d23b-e5da-4807-e75f-f2bf4159c30d"
      },
      "execution_count": 5,
      "outputs": [
        {
          "output_type": "stream",
          "name": "stdout",
          "text": [
            "Size of arr1= 5\n",
            "Size of arr2= 6\n"
          ]
        }
      ]
    },
    {
      "cell_type": "code",
      "source": [
        "#To see the size of the array\n",
        "print(f'Shape of arr1= {arr1.shape}')\n",
        "print(f'Shape of arr2= {arr2.shape}')"
      ],
      "metadata": {
        "colab": {
          "base_uri": "https://localhost:8080/"
        },
        "id": "tF3VkL56xkGm",
        "outputId": "e8500be4-1a42-4acc-e6e8-b45b555c626a"
      },
      "execution_count": 6,
      "outputs": [
        {
          "output_type": "stream",
          "name": "stdout",
          "text": [
            "Shape of arr1= (5,)\n",
            "Shape of arr2= (2, 3)\n"
          ]
        }
      ]
    },
    {
      "cell_type": "markdown",
      "source": [
        "## **Array using the function arange**"
      ],
      "metadata": {
        "id": "I29_SFrpJfAJ"
      }
    },
    {
      "cell_type": "markdown",
      "source": [
        "According to the uses of memory, we have that taking the usual way to obtain a range of number,and creating an array uses more memory if we use numpy libray."
      ],
      "metadata": {
        "id": "_yfOiYRaX0AK"
      }
    },
    {
      "cell_type": "code",
      "source": [
        "'''\n",
        "The module sys provides various functions and variables that are used to\n",
        "manipulate different parts of the Python runtime environment\n",
        "'''\n",
        "import sys\n",
        "rang1=range(500)\n",
        "mem_py=sys.getsizeof(3)*len(rang1)\n",
        "rang2=np.arange(500)\n",
        "mem_np=rang2.size*rang2.itemsize\n",
        "print(f\"Uses of memory only Python {mem_py}\\n Uses of memory with numpy {mem_np}\")"
      ],
      "metadata": {
        "colab": {
          "base_uri": "https://localhost:8080/"
        },
        "id": "Rf67HCHMN_12",
        "outputId": "07ba108e-7376-40c3-848f-7ee40e895d8c"
      },
      "execution_count": 7,
      "outputs": [
        {
          "output_type": "stream",
          "name": "stdout",
          "text": [
            "Uses of memory only Python 14000\n",
            " Uses of memory with numpy 4000\n"
          ]
        }
      ]
    },
    {
      "cell_type": "code",
      "source": [
        "#https://www.youtube.com/watch?v=WxJr143Os-A&ab_channel=AprendeIAconLigdiGonzalez"
      ],
      "metadata": {
        "id": "uYXBoxewfDha"
      },
      "execution_count": 8,
      "outputs": []
    },
    {
      "cell_type": "markdown",
      "source": [
        "## **Creating matrices with entries zero, random and empty**"
      ],
      "metadata": {
        "id": "vqpuMmKXKFqW"
      }
    },
    {
      "cell_type": "code",
      "source": [
        "#Generate a matrix 3x3 with zeros\n",
        "zer=np.zeros((3,3))\n",
        "print(f'zer = {zer}')\n",
        "#Generating a matrix 4x4 with random values\n",
        "ran=np.random.random((4,4))\n",
        "print(f'ran= {ran}')\n",
        "#Return a new array of given shape and type, without initializing entries.\n",
        "emp=np.empty((2,2))\n",
        "print(f'emp= {emp}')\n",
        "#Generate a matrix 4x3 with values 6.\n",
        "ful=np.full((4,3),6)\n",
        "print(ful)"
      ],
      "metadata": {
        "colab": {
          "base_uri": "https://localhost:8080/"
        },
        "id": "7M3Ff_eNf02e",
        "outputId": "349ae0f8-c172-4804-e607-1141e0e92941"
      },
      "execution_count": 9,
      "outputs": [
        {
          "output_type": "stream",
          "name": "stdout",
          "text": [
            "zer = [[0. 0. 0.]\n",
            " [0. 0. 0.]\n",
            " [0. 0. 0.]]\n",
            "ran= [[0.57986285 0.28460729 0.39691645 0.78194777]\n",
            " [0.0441513  0.9088604  0.59209426 0.13351123]\n",
            " [0.20768506 0.12081571 0.79748123 0.57975058]\n",
            " [0.73933857 0.17924311 0.33855375 0.91482773]]\n",
            "emp= [[5.e-324 5.e-324]\n",
            " [5.e-324 0.e+000]]\n",
            "[[6 6 6]\n",
            " [6 6 6]\n",
            " [6 6 6]\n",
            " [6 6 6]]\n"
          ]
        }
      ]
    },
    {
      "cell_type": "markdown",
      "source": [
        "## **Slicing array according to the index**"
      ],
      "metadata": {
        "id": "kjTvD7puKPjA"
      }
    },
    {
      "cell_type": "code",
      "source": [
        "#Generating a range with values from 0 to 32 each four spaces\n",
        "rang=np.arange(0,32,4)\n",
        "print(f'Range of values from 0 to 32 with a space of 4 units=\\n{rang}')\n",
        "inter=np.linspace(0,6,13)\n",
        "print(f'Partition of the interval [0,6] into 13 pieces=\\n{inter}')"
      ],
      "metadata": {
        "colab": {
          "base_uri": "https://localhost:8080/"
        },
        "id": "WRhF7B8HgkzE",
        "outputId": "2ac070ff-03a3-469c-8f73-d54fac29145b"
      },
      "execution_count": 10,
      "outputs": [
        {
          "output_type": "stream",
          "name": "stdout",
          "text": [
            "Range of values from 0 to 32 with a space of 4 units=\n",
            "[ 0  4  8 12 16 20 24 28]\n",
            "Partition of the interval [0,6] into 13 pieces=\n",
            "[0.  0.5 1.  1.5 2.  2.5 3.  3.5 4.  4.5 5.  5.5 6. ]\n"
          ]
        }
      ]
    },
    {
      "cell_type": "code",
      "source": [
        "#We want the type of data stored in each array, so\n",
        "print('data type of rang: {}'.format(rang.dtype))\n",
        "print('data type of inter: {}'.format(inter.dtype))"
      ],
      "metadata": {
        "colab": {
          "base_uri": "https://localhost:8080/"
        },
        "id": "dlbsswbczs-y",
        "outputId": "8765b9df-9832-4ee5-faac-feb8226dc0c2"
      },
      "execution_count": 11,
      "outputs": [
        {
          "output_type": "stream",
          "name": "stdout",
          "text": [
            "data type of rang: int64\n",
            "data type of inter: float64\n"
          ]
        }
      ]
    },
    {
      "cell_type": "code",
      "source": [
        "#We can change an element in each entry of an array\n",
        "array=np.array([2,4,78,12,32,10,9])\n",
        "print(f'original array: {array}')\n",
        "array[2]=21\n",
        "print(f'new array: {array}')"
      ],
      "metadata": {
        "colab": {
          "base_uri": "https://localhost:8080/"
        },
        "id": "A8vr9yUA3b_H",
        "outputId": "edc1cf2a-c545-4dd5-b1e1-7e1c8098e50c"
      },
      "execution_count": 12,
      "outputs": [
        {
          "output_type": "stream",
          "name": "stdout",
          "text": [
            "original array: [ 2  4 78 12 32 10  9]\n",
            "new array: [ 2  4 21 12 32 10  9]\n"
          ]
        }
      ]
    },
    {
      "cell_type": "code",
      "source": [
        "#Slicing the array\n",
        "array[1:4]"
      ],
      "metadata": {
        "colab": {
          "base_uri": "https://localhost:8080/"
        },
        "id": "_LmoYaKZ6Ra1",
        "outputId": "03251856-cd1b-40b1-8e8b-56bdc0a865f5"
      },
      "execution_count": 13,
      "outputs": [
        {
          "output_type": "execute_result",
          "data": {
            "text/plain": [
              "array([ 4, 21, 12])"
            ]
          },
          "metadata": {},
          "execution_count": 13
        }
      ]
    },
    {
      "cell_type": "code",
      "source": [
        "#Re-writing the values from 2 to 5\n",
        "print(f'Array given: {array}')\n",
        "array[2:6]= 14 , 15 , 16 , 17\n",
        "print(f'New array: {array}')"
      ],
      "metadata": {
        "id": "BEX3tZrpkbbm",
        "colab": {
          "base_uri": "https://localhost:8080/"
        },
        "outputId": "3f6d395a-b32e-42f1-df6a-829ec0032c3f"
      },
      "execution_count": 14,
      "outputs": [
        {
          "output_type": "stream",
          "name": "stdout",
          "text": [
            "Array given: [ 2  4 21 12 32 10  9]\n",
            "New array: [ 2  4 14 15 16 17  9]\n"
          ]
        }
      ]
    },
    {
      "cell_type": "code",
      "source": [
        "#Step slicing array[begin: end: step]\n",
        "array[1:6:2]"
      ],
      "metadata": {
        "colab": {
          "base_uri": "https://localhost:8080/"
        },
        "id": "aPqZeMYF7Wit",
        "outputId": "cd1ada4f-18e6-40c3-e02e-06373bf02e44"
      },
      "execution_count": 15,
      "outputs": [
        {
          "output_type": "execute_result",
          "data": {
            "text/plain": [
              "array([ 4, 15, 17])"
            ]
          },
          "metadata": {},
          "execution_count": 15
        }
      ]
    },
    {
      "cell_type": "markdown",
      "source": [
        "## **Assign values according to a list related to the index**"
      ],
      "metadata": {
        "id": "VDDCGwJhKapS"
      }
    },
    {
      "cell_type": "code",
      "source": [
        "#According to the array\n",
        "arr=np.linspace(10,130,13)\n",
        "print(f'Array: {arr}')\n",
        "#We define an index list call select\n",
        "select=[2,4,9]\n",
        "new_arr=arr[select]\n",
        "print(f'Array with the entries according to the list index \"select\": {new_arr}')\n",
        "#We can modify all the element considered by select\n",
        "arr[select]= 10\n",
        "print(f'Array with new value in the position by \"select\": {arr}')\n",
        "arr[select]= 30.0 , 50.0 , 100.0\n",
        "print(f'Recovering the information in the position by \"select\": {arr}')"
      ],
      "metadata": {
        "colab": {
          "base_uri": "https://localhost:8080/"
        },
        "id": "UZ7EPqEM7s3e",
        "outputId": "a7cf271b-d612-4618-ed33-57165de69638"
      },
      "execution_count": 16,
      "outputs": [
        {
          "output_type": "stream",
          "name": "stdout",
          "text": [
            "Array: [ 10.  20.  30.  40.  50.  60.  70.  80.  90. 100. 110. 120. 130.]\n",
            "Array with the entries according to the list index \"select\": [ 30.  50. 100.]\n",
            "Array with new value in the position by \"select\": [ 10.  20.  10.  40.  10.  60.  70.  80.  90.  10. 110. 120. 130.]\n",
            "Recovering the information in the position by \"select\": [ 10.  20.  30.  40.  50.  60.  70.  80.  90. 100. 110. 120. 130.]\n"
          ]
        }
      ]
    },
    {
      "cell_type": "markdown",
      "source": [
        "## **Functions with numpy (mathematical and statistics)**"
      ],
      "metadata": {
        "id": "1trbucKqx66B"
      }
    },
    {
      "cell_type": "markdown",
      "source": [
        "In statistics we have some relevant functions as the mean, median, mode, standar deviation, between other.\n",
        "\n"
      ],
      "metadata": {
        "id": "ISyZMN66m0UX"
      }
    },
    {
      "cell_type": "code",
      "source": [
        "x=np.array([10,20,10,30,40])"
      ],
      "metadata": {
        "id": "NfoWhw54zoEc"
      },
      "execution_count": 17,
      "outputs": []
    },
    {
      "cell_type": "code",
      "source": [
        "#"
      ],
      "metadata": {
        "id": "mS9lY4q71Qhz"
      },
      "execution_count": 18,
      "outputs": []
    },
    {
      "cell_type": "code",
      "source": [],
      "metadata": {
        "id": "mSPFf7eg1Qru"
      },
      "execution_count": 18,
      "outputs": []
    },
    {
      "cell_type": "markdown",
      "source": [
        "## ***Exercises:***"
      ],
      "metadata": {
        "id": "8_OpCgDO8bNA"
      }
    },
    {
      "cell_type": "markdown",
      "source": [
        "1. Create an array with the number from 0 to 15"
      ],
      "metadata": {
        "id": "N1pTPVvT8fOO"
      }
    },
    {
      "cell_type": "code",
      "source": [
        "exer1=np.arange(0,16,1)\n",
        "exer1"
      ],
      "metadata": {
        "colab": {
          "base_uri": "https://localhost:8080/"
        },
        "id": "GQ_v42D78nRM",
        "outputId": "d8ea2a02-6908-4b9a-e691-4fd4de2d5257"
      },
      "execution_count": 19,
      "outputs": [
        {
          "output_type": "execute_result",
          "data": {
            "text/plain": [
              "array([ 0,  1,  2,  3,  4,  5,  6,  7,  8,  9, 10, 11, 12, 13, 14, 15])"
            ]
          },
          "metadata": {},
          "execution_count": 19
        }
      ]
    },
    {
      "cell_type": "markdown",
      "source": [
        "2. Write the odd number in the array given before"
      ],
      "metadata": {
        "id": "W2MaanrD-WlL"
      }
    },
    {
      "cell_type": "code",
      "source": [
        "exer2=exer1[::2]\n",
        "exer2"
      ],
      "metadata": {
        "colab": {
          "base_uri": "https://localhost:8080/"
        },
        "id": "RTS9b-9L8amN",
        "outputId": "65a9d49e-c4fa-4972-fd9a-ce566643bb2c"
      },
      "execution_count": 20,
      "outputs": [
        {
          "output_type": "execute_result",
          "data": {
            "text/plain": [
              "array([ 0,  2,  4,  6,  8, 10, 12, 14])"
            ]
          },
          "metadata": {},
          "execution_count": 20
        }
      ]
    },
    {
      "cell_type": "markdown",
      "source": [],
      "metadata": {
        "id": "9KqOWGyD-khh"
      }
    }
  ]
}